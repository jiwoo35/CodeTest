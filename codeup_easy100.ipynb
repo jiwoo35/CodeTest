{
 "cells": [
  {
   "cell_type": "markdown",
   "id": "7646d128",
   "metadata": {},
   "source": [
    "### 기초4-2. 중첩 반복문"
   ]
  },
  {
   "cell_type": "code",
   "execution_count": 91,
   "id": "5a8a86cb",
   "metadata": {},
   "outputs": [
    {
     "name": "stdout",
     "output_type": "stream",
     "text": [
      "5 6\n",
      "5*1=5\n",
      "5*2=10\n",
      "5*3=15\n",
      "5*4=20\n",
      "5*5=25\n",
      "5*6=30\n",
      "5*7=35\n",
      "5*8=40\n",
      "5*9=45\n",
      "6*1=6\n",
      "6*2=12\n",
      "6*3=18\n",
      "6*4=24\n",
      "6*5=30\n",
      "6*6=36\n",
      "6*7=42\n",
      "6*8=48\n",
      "6*9=54\n"
     ]
    }
   ],
   "source": [
    "# 1. 구구단 출력하기2\n",
    "\n",
    "m, n = input().split()\n",
    "m = int(m)\n",
    "n = int(n)\n",
    "\n",
    "for i in range(m,n+1):\n",
    "    for j in range(1,10):\n",
    "        print('{0}*{1}={2}'.format(i, j, (i*j)))"
   ]
  },
  {
   "cell_type": "code",
   "execution_count": 23,
   "id": "ee69b15f",
   "metadata": {},
   "outputs": [
    {
     "name": "stdout",
     "output_type": "stream",
     "text": [
      "3\n",
      "***\n",
      " **\n",
      "  *\n"
     ]
    }
   ],
   "source": [
    "# 2. 삼각형 출력하기3 - 역삼각형\n",
    "\n",
    "n = int(input())\n",
    "\n",
    "for i in range(n):\n",
    "    for j in range(n):\n",
    "        if i<=j:\n",
    "            print(\"*\", end='') # end='' 줄바꿈 안함\n",
    "        else:\n",
    "            print(\" \", end='')\n",
    "    print(\"\")"
   ]
  },
  {
   "cell_type": "code",
   "execution_count": 49,
   "id": "5d9417b6",
   "metadata": {},
   "outputs": [
    {
     "name": "stdout",
     "output_type": "stream",
     "text": [
      "5\n",
      "  *\n",
      " ***\n",
      "*****\n"
     ]
    }
   ],
   "source": [
    "# 3. 삼각형 출력하기5 - 피라미드\n",
    "\n",
    "n = int(input())\n",
    "\n",
    "for i in range(n//2+1):\n",
    "    for j in range(n//2,i,-1): # 거꾸로 출력\n",
    "        print(' ',end='')\n",
    "\n",
    "    for j in range((i+1)*2-1):\n",
    "        print(\"*\",end='')\n",
    "    print()"
   ]
  },
  {
   "cell_type": "code",
   "execution_count": 90,
   "id": "1028230a",
   "metadata": {},
   "outputs": [
    {
     "name": "stdout",
     "output_type": "stream",
     "text": [
      "9\n",
      "*********\n",
      "**     **\n",
      "* *   * *\n",
      "*  * *  *\n",
      "*   *   *\n",
      "*  * *  *\n",
      "* *   * *\n",
      "**     **\n",
      "*********\n"
     ]
    }
   ],
   "source": [
    "# 4. 사각형 출력하기 3 \n",
    "\n",
    "n = int(input())\n",
    "\n",
    "for i in range(1,n+1):\n",
    "    for j in range(1,n+1):\n",
    "        if i==1 or i==n or j==1 or j==n:           # 첫행/열 마지막행/열은 *로 채움\n",
    "            print(\"*\", end='')\n",
    "        elif i==j or (i+j)==(n+1): # (x,x)와 반대편은 *\n",
    "            print(\"*\", end='')\n",
    "        else:\n",
    "            print(\" \", end='')    \n",
    "\n",
    "    print(\"\")"
   ]
  },
  {
   "cell_type": "code",
   "execution_count": 105,
   "id": "4c2c5f66",
   "metadata": {},
   "outputs": [
    {
     "name": "stdout",
     "output_type": "stream",
     "text": [
      "4\n",
      "   ****\n",
      "  **** \n",
      " ****  \n",
      "****   \n"
     ]
    }
   ],
   "source": [
    "# 5. 평행사변형 출력하기 1\n",
    "\n",
    "n = int(input())\n",
    "\n",
    "for i in range(n):\n",
    "    for j in range(1,n+1):\n",
    "        if (i+j)<n or (i+j)>n:\n",
    "            print(\" \", end='')\n",
    "        else:\n",
    "            print(\"*\"*n, end='')\n",
    "    print(\"\")"
   ]
  },
  {
   "cell_type": "markdown",
   "id": "c62d56fa",
   "metadata": {},
   "source": [
    "### 기초5-1. 1차원 배열 & 5-2. 문자열"
   ]
  },
  {
   "cell_type": "code",
   "execution_count": 133,
   "id": "19436d84",
   "metadata": {},
   "outputs": [
    {
     "name": "stdout",
     "output_type": "stream",
     "text": [
      "5\n",
      "1 3 5 6 8\n",
      "8 6 5 3 1 "
     ]
    }
   ],
   "source": [
    "# 6. 거꾸로 출력하기 3\n",
    "\n",
    "n = int(input())\n",
    "a = input().split() # 입력 데이터\n",
    "\n",
    "# 정수로 저장\n",
    "for i in range(n):\n",
    "    a[i]=int(a[i])\n",
    "\n",
    "# print(a)\n",
    "\n",
    "# 거꾸로 출력\n",
    "for i in range(n-1,-1,-1):\n",
    "    print(a[i], end=' ')\n",
    "\n",
    "# print([a[i] for i in range(n-1,-1,-1)]) # [8,6,5,3,1]"
   ]
  },
  {
   "cell_type": "code",
   "execution_count": 152,
   "id": "3d29a3fb",
   "metadata": {},
   "outputs": [
    {
     "name": "stdout",
     "output_type": "stream",
     "text": [
      "5\n",
      "1 2 3 4 5\n",
      "[1, 2, 3, 4, 5]\n",
      "1 2 3 4 5 \n",
      "2 3 4 5 1 \n",
      "3 4 5 1 2 \n",
      "4 5 1 2 3 \n",
      "5 1 2 3 4 \n"
     ]
    }
   ],
   "source": [
    "# 7. 숫자 로테이션 (Fail)\n",
    "\n",
    "n = int(input())\n",
    "# a = input().split() # 입력 데이터\n",
    "\n",
    "# # 정수로 저장\n",
    "# for i in range(n):\n",
    "#     a[i]=int(a[i])\n",
    "a = list(map(int, input().split()))\n",
    "    \n",
    "# print(a)\n",
    "\n",
    "for i in range(n):\n",
    "    for j in range(n):\n",
    "        print(a[j], end=' ')\n",
    "    print()\n",
    "    \n",
    "    for j in range(n-1): # 1행 제외\n",
    "        temp = a[j]\n",
    "        a[j] = a[j+1]\n",
    "        a[j+1] = temp"
   ]
  },
  {
   "cell_type": "code",
   "execution_count": 155,
   "id": "228e5307",
   "metadata": {},
   "outputs": [
    {
     "name": "stdout",
     "output_type": "stream",
     "text": [
      "abC Def gh\n",
      "['abC', 'Def', 'gh']\n",
      "abCDefgh"
     ]
    }
   ],
   "source": [
    "# 8. 문자열 출력하기 1\n",
    "\n",
    "s = list(map(str, input().split()))\n",
    "# print(s)\n",
    "\n",
    "for i in range(len(s)):\n",
    "    print(s[i], end='')"
   ]
  },
  {
   "cell_type": "code",
   "execution_count": 157,
   "id": "f50259f2",
   "metadata": {},
   "outputs": [
    {
     "name": "stdout",
     "output_type": "stream",
     "text": [
      "((())()(()))\n",
      "6 6\n"
     ]
    }
   ],
   "source": [
    "# 9. 올바른 괄호 1 (괄호 개수 세기)\n",
    "\n",
    "s = input()\n",
    "\n",
    "cnt_left=0\n",
    "cnt_right=0\n",
    "for i in range(len(s)):\n",
    "    if s[i]==\"(\":\n",
    "        cnt_left+=1\n",
    "    else:\n",
    "        cnt_right+=1\n",
    "\n",
    "print(cnt_left, cnt_right)     "
   ]
  },
  {
   "cell_type": "code",
   "execution_count": 181,
   "id": "d7241425",
   "metadata": {
    "scrolled": true
   },
   "outputs": [
    {
     "name": "stdout",
     "output_type": "stream",
     "text": [
      "oh! my god!\n",
      "a:0\n",
      "b:0\n",
      "c:0\n",
      "d:1\n",
      "e:0\n",
      "f:0\n",
      "g:1\n",
      "h:1\n",
      "i:0\n",
      "j:0\n",
      "k:0\n",
      "l:0\n",
      "m:1\n",
      "n:0\n",
      "o:2\n",
      "p:0\n",
      "q:0\n",
      "r:0\n",
      "s:0\n",
      "t:0\n",
      "u:0\n",
      "v:0\n",
      "w:0\n",
      "x:0\n",
      "y:1\n",
      "z:0\n"
     ]
    }
   ],
   "source": [
    "# 10. 알파벳 개수 출력하기\n",
    "\n",
    "s = input()\n",
    "\n",
    "# sol1) 딕셔너리 활용\n",
    "# for i in range(len(s)):\n",
    "#     print(s[i])\n",
    "\n",
    "# dic = {\"a\":0, \"b\":0, \"c\":0, \"d\":0, \"e\":0, \"f\":0,\n",
    "#         \"g\":0, \"h\":0, \"i\":0, \"j\":0, \"k\":0, \"l\":0,\n",
    "#         \"m\":0, \"n\":0, \"o\":0, \"p\":0, \"q\":0, \"r\":0,\n",
    "#         \"s\":0, \"t\":0, \"u\":0, \"v\":0, \"w\":0, \"x\":0,\n",
    "#         \"y\":0, \"z\":0,}\n",
    "\n",
    "# for i in range(len(s)):\n",
    "#     if s[i] in dic:\n",
    "#         dic[s[i]] += 1\n",
    "        \n",
    "# for k, v in dic.items():\n",
    "#     print('{0}:{1}'.format(k,v))\n",
    "    \n",
    "# sol2) 아스키코드 활용\n",
    "ans = [0 for _ in range(26)]\n",
    "\n",
    "# 영 소문자만 따로 저장\n",
    "new_s = []\n",
    "for i in range(len(s)):\n",
    "    if ord(s[i])>=97 and ord(s[i])<=122:\n",
    "        new_s.append(s[i])\n",
    "\n",
    "# print(new_s)\n",
    "\n",
    "for i in range(len(new_s)):\n",
    "     ans[ord(new_s[i])-97]+=1\n",
    "\n",
    "for j in range(len(ans)):\n",
    "    print('{0}:{1}'.format(chr(97+j),ans[j]))"
   ]
  },
  {
   "cell_type": "markdown",
   "id": "67ecd2ae",
   "metadata": {},
   "source": [
    "### 5-3. 2차원 배열"
   ]
  },
  {
   "cell_type": "code",
   "execution_count": null,
   "id": "8c02f6a3",
   "metadata": {},
   "outputs": [],
   "source": []
  },
  {
   "cell_type": "code",
   "execution_count": null,
   "id": "74fcf276",
   "metadata": {},
   "outputs": [],
   "source": []
  },
  {
   "cell_type": "code",
   "execution_count": null,
   "id": "41d80dc1",
   "metadata": {},
   "outputs": [],
   "source": []
  },
  {
   "cell_type": "code",
   "execution_count": null,
   "id": "9fbbce10",
   "metadata": {},
   "outputs": [],
   "source": []
  },
  {
   "cell_type": "code",
   "execution_count": null,
   "id": "9b55a24c",
   "metadata": {},
   "outputs": [],
   "source": []
  },
  {
   "cell_type": "markdown",
   "id": "853420d8",
   "metadata": {},
   "source": [
    "### 5-4. 데이터 정렬"
   ]
  },
  {
   "cell_type": "code",
   "execution_count": null,
   "id": "d9c4405c",
   "metadata": {},
   "outputs": [],
   "source": []
  },
  {
   "cell_type": "code",
   "execution_count": null,
   "id": "f4731b9f",
   "metadata": {},
   "outputs": [],
   "source": []
  },
  {
   "cell_type": "code",
   "execution_count": null,
   "id": "76428fb1",
   "metadata": {},
   "outputs": [],
   "source": []
  },
  {
   "cell_type": "code",
   "execution_count": null,
   "id": "371c5de8",
   "metadata": {},
   "outputs": [],
   "source": []
  },
  {
   "cell_type": "code",
   "execution_count": null,
   "id": "7e573401",
   "metadata": {},
   "outputs": [],
   "source": []
  },
  {
   "cell_type": "markdown",
   "id": "33eee5f9",
   "metadata": {},
   "source": [
    "### 6. 함수"
   ]
  },
  {
   "cell_type": "code",
   "execution_count": null,
   "id": "22f7c0e5",
   "metadata": {},
   "outputs": [],
   "source": []
  },
  {
   "cell_type": "code",
   "execution_count": null,
   "id": "1b8c5f9f",
   "metadata": {},
   "outputs": [],
   "source": []
  },
  {
   "cell_type": "code",
   "execution_count": null,
   "id": "be4af1bd",
   "metadata": {},
   "outputs": [],
   "source": []
  },
  {
   "cell_type": "code",
   "execution_count": null,
   "id": "6fb2e841",
   "metadata": {},
   "outputs": [],
   "source": []
  },
  {
   "cell_type": "code",
   "execution_count": null,
   "id": "5d3cf21e",
   "metadata": {},
   "outputs": [],
   "source": []
  }
 ],
 "metadata": {
  "kernelspec": {
   "display_name": "Python 3 (ipykernel)",
   "language": "python",
   "name": "python3"
  },
  "language_info": {
   "codemirror_mode": {
    "name": "ipython",
    "version": 3
   },
   "file_extension": ".py",
   "mimetype": "text/x-python",
   "name": "python",
   "nbconvert_exporter": "python",
   "pygments_lexer": "ipython3",
   "version": "3.9.7"
  }
 },
 "nbformat": 4,
 "nbformat_minor": 5
}
