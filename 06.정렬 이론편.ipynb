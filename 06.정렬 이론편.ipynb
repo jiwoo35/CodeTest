{
 "cells": [
  {
   "cell_type": "code",
   "execution_count": 1,
   "id": "4a855a3a",
   "metadata": {},
   "outputs": [
    {
     "name": "stdout",
     "output_type": "stream",
     "text": [
      "[0, 1, 2, 3, 4, 5, 6, 7, 8, 9]\n"
     ]
    }
   ],
   "source": [
    "# 6-1. 선택 정렬\n",
    "\n",
    "array = [7,5,9,0,3,1,6,2,4,8]\n",
    "\n",
    "for i in range(len(array)):\n",
    "    \n",
    "    min_index = i # 가장 작은 원소의 인덱스\n",
    "    \n",
    "    for j in range(i+1, len(array)):\n",
    "        if array[min_index]>array[j]:\n",
    "            min_index=j\n",
    "            \n",
    "    array[i],array[min_index] = array[min_index], array[i] # swap\n",
    "\n",
    "print(array)"
   ]
  },
  {
   "cell_type": "code",
   "execution_count": null,
   "id": "8aebb565",
   "metadata": {},
   "outputs": [],
   "source": [
    "# 6-2. 삽입 정렬\n",
    "\n",
    "array = [7,5,9,0,3,1,6,2,4,8]\n",
    "\n",
    "for i in range(len(array)):\n",
    "    for j in range(i, 0, -1):       # 인덱스 i부터 1까지 -1씩 감소\n",
    "        if array[j]<array[j-1]:     # 앞의 데이터가 더 크면, 한칸씩 앞(왼쪽)으로 이동\n",
    "            array[j-1], array[j] = array[j], array[j-1] # swap\n",
    "        else:                       # 앞의 데이터가 작으면, stop\n",
    "            break"
   ]
  },
  {
   "cell_type": "code",
   "execution_count": 2,
   "id": "2d64a27f",
   "metadata": {},
   "outputs": [
    {
     "name": "stdout",
     "output_type": "stream",
     "text": [
      "[0, 1, 2, 3, 4, 5, 6, 7, 8, 9]\n"
     ]
    }
   ],
   "source": [
    "# 6-3. 퀵 정렬\n",
    "\n",
    "array = [5,7,9,0,3,1,6,2,4,8]\n",
    "\n",
    "def quick_sort(array,start,end):\n",
    "    if start>=end: # 원소가 1개인 경우 종료?\n",
    "        return\n",
    "    pivot = start  # 첫번째 데이터를 피벗으로 설정\n",
    "    left = start + 1\n",
    "    right = end\n",
    "    while left<=right:\n",
    "        # 피벗보다 큰 데이터를 찾을때까지 왼쪽부터 반복\n",
    "        while left <= end and array[left] <= array[pivot]:\n",
    "            left += 1\n",
    "        # 피벗보다 작은 데이터를 찾을때까지 오른쪽부터 반복\n",
    "        while right > start and array[right]>=array[pivot]:\n",
    "            right -= 1\n",
    "        # 위치가 서로 엇갈린 경우, 작은 데이터와 피벗 위치 변경\n",
    "        if left > right:\n",
    "            array[pivot], array[right] = array[right], array[pivot]\n",
    "        # 아닌 경우, 큰 데이터와 작은 데이터 swap            \n",
    "        else: \n",
    "            array[left], array[right] = array[right], array[left]\n",
    "    # 분할 이후 왼쪽, 오른쪽 각각 정렬\n",
    "    quick_sort(array, start, right-1)\n",
    "    quick_sort(array,right+1, end)\n",
    "\n",
    "quick_sort(array, 0, len(array)-1)\n",
    "\n",
    "print(array)            "
   ]
  },
  {
   "cell_type": "code",
   "execution_count": 3,
   "id": "a211aa52",
   "metadata": {},
   "outputs": [
    {
     "name": "stdout",
     "output_type": "stream",
     "text": [
      "[0, 1, 2, 3, 4, 5, 6, 7, 8, 9]\n"
     ]
    }
   ],
   "source": [
    "# 6-3. 퀵 정렬 (2)\n",
    "\n",
    "array = [5,7,9,0,3,1,6,2,4,8]\n",
    "\n",
    "def quick_sort(array):\n",
    "    if len(array)<=1: # 리스트가 1개이하의 원소를 가진 경우 종료\n",
    "        return array\n",
    "    \n",
    "    pivot = array[0]  # 첫번째 데이터를 피벗으로 설정\n",
    "    tail = array[1:]  # 피벗을 제외한 리스트\n",
    "    \n",
    "    left_side = [x for x in tail if x <= pivot]  # 분할된 왼쪽 리스트 (피벗보다 데이터 값이 모두 작다)\n",
    "    right_side = [x for x in tail if x >= pivot] # 분할된 오른쪽 리스트 (피벗보다 데이터 값이 모두 크다)\n",
    "    \n",
    "    # 분할 이후 왼쪽, 오른쪽 각각 정렬\n",
    "    return quick_sort(left_side) + [pivot] + quick_sort(right_side)\n",
    "\n",
    "print(quick_sort(array))            "
   ]
  },
  {
   "cell_type": "code",
   "execution_count": 4,
   "id": "992607f2",
   "metadata": {},
   "outputs": [
    {
     "name": "stdout",
     "output_type": "stream",
     "text": [
      "0 0 1 1 2 2 3 4 5 5 6 7 8 9 9 "
     ]
    }
   ],
   "source": [
    "# 계수 정렬\n",
    "\n",
    "array = [7,5,9,0,3,1,6,2,9,1,4,8,0,5,2]\n",
    "\n",
    "# 가장 큰 데이터 9부터 가장 작은 데이터 0까지 담을수 있는 크기 10인 리스트 생성(0으로 초기화)\n",
    "count = [0] * (max(array)+1)\n",
    "\n",
    "for i in range(len(array)):     # array의 0부터\n",
    "    count[array[i]] += 1        # 각 데이터의 값에 해당하는 count 인덱스의 값 1씩 증가\n",
    "    \n",
    "for i in range(len(count)):    # count의 0부터\n",
    "    for j in range(count[i]):  # 각 인덱스의 값(개수)만큼 인덱스를 출력\n",
    "        print(i, end=\" \")"
   ]
  },
  {
   "cell_type": "code",
   "execution_count": 5,
   "id": "a0ace510",
   "metadata": {},
   "outputs": [
    {
     "name": "stdout",
     "output_type": "stream",
     "text": [
      "[0, 1, 2, 3, 4, 5, 6, 7, 8, 9]\n"
     ]
    }
   ],
   "source": [
    "# sorted()\n",
    "\n",
    "array = [7,5,9,0,3,1,6,2,4,8]\n",
    "\n",
    "result = sorted(array)\n",
    "print(result)"
   ]
  },
  {
   "cell_type": "code",
   "execution_count": 6,
   "id": "305a7199",
   "metadata": {},
   "outputs": [
    {
     "name": "stdout",
     "output_type": "stream",
     "text": [
      "[0, 1, 2, 3, 4, 5, 6, 7, 8, 9]\n"
     ]
    }
   ],
   "source": [
    "# list 내장 함수 sort()\n",
    "\n",
    "array = [7,5,9,0,3,1,6,2,4,8]\n",
    "\n",
    "array.sort()\n",
    "print(array)"
   ]
  },
  {
   "cell_type": "code",
   "execution_count": 7,
   "id": "5d32c590",
   "metadata": {},
   "outputs": [
    {
     "name": "stdout",
     "output_type": "stream",
     "text": [
      "[('바나나', 2), ('당근', 3), ('사과', 5)]\n"
     ]
    }
   ],
   "source": [
    "# key를 활용\n",
    "\n",
    "array=[('바나나', 2),('사과', 5),('당근', 3)]\n",
    "\n",
    "def setting(data):\n",
    "    return data[1]\n",
    "\n",
    "result = sorted(array, key=setting)\n",
    "print(result)"
   ]
  },
  {
   "cell_type": "code",
   "execution_count": 10,
   "id": "f77cb46a",
   "metadata": {},
   "outputs": [
    {
     "name": "stdout",
     "output_type": "stream",
     "text": [
      "3\n",
      "15\n",
      "27\n",
      "12\n",
      "27 15 12 "
     ]
    }
   ],
   "source": [
    "# 2. 위에서 아래로\n",
    "\n",
    "n = int(input()) # 수열의 개수\n",
    "\n",
    "array = []\n",
    "for i in range(n):\n",
    "    array.append(int(input()))\n",
    "\n",
    "array = sorted(array, reverse=True)\n",
    "\n",
    "for i in array:\n",
    "    print(i, end=' ')"
   ]
  },
  {
   "cell_type": "code",
   "execution_count": 21,
   "id": "5613fe7e",
   "metadata": {},
   "outputs": [
    {
     "name": "stdout",
     "output_type": "stream",
     "text": [
      "2\n",
      "홍길동 95\n",
      "이순신 77\n",
      "이순신 홍길동 "
     ]
    }
   ],
   "source": [
    "# 3. 성적이 낮은 순서로 학생 출력\n",
    "\n",
    "n=int(input()) # 학생수\n",
    "\n",
    "array=[]\n",
    "\n",
    "for i in range(n):\n",
    "    input_data = input().split()\n",
    "    array.append((input_data[0], int(input_data[1])))  # [(이름, 성적), (이름, 성적), ...]\n",
    "                 \n",
    "array = sorted(array, key=lambda student: student[1])\n",
    "\n",
    "for i in array:\n",
    "    print(i[0], end = ' ')"
   ]
  },
  {
   "cell_type": "code",
   "execution_count": 32,
   "id": "660f29f1",
   "metadata": {},
   "outputs": [
    {
     "name": "stdout",
     "output_type": "stream",
     "text": [
      "5 3\n",
      "1 2 5 4 3\n",
      "5 5 6 6 5\n",
      "26\n"
     ]
    }
   ],
   "source": [
    "# 4. 두 배열의 원소 교체\n",
    "\n",
    "n, k = map(int, input().split())\n",
    "\n",
    "a = list(map(int, input().split()))\n",
    "b = list(map(int, input().split()))\n",
    "\n",
    "a.sort()\n",
    "b.sort(reverse=True)\n",
    "\n",
    "# print(a)\n",
    "# print(b)\n",
    "\n",
    "for i in range(k):\n",
    "    if a[i]<b[i]:\n",
    "        a[i], b[i] = b[i], a[i]\n",
    "    else:\n",
    "        break\n",
    "    \n",
    "print(sum(a))"
   ]
  },
  {
   "cell_type": "code",
   "execution_count": null,
   "id": "a4dd08ee",
   "metadata": {},
   "outputs": [],
   "source": []
  }
 ],
 "metadata": {
  "kernelspec": {
   "display_name": "Python 3 (ipykernel)",
   "language": "python",
   "name": "python3"
  },
  "language_info": {
   "codemirror_mode": {
    "name": "ipython",
    "version": 3
   },
   "file_extension": ".py",
   "mimetype": "text/x-python",
   "name": "python",
   "nbconvert_exporter": "python",
   "pygments_lexer": "ipython3",
   "version": "3.9.7"
  }
 },
 "nbformat": 4,
 "nbformat_minor": 5
}
