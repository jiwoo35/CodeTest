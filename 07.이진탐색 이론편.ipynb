{
 "cells": [
  {
   "cell_type": "code",
   "execution_count": 6,
   "id": "1d0c82a6",
   "metadata": {},
   "outputs": [
    {
     "name": "stdout",
     "output_type": "stream",
     "text": [
      "생성할 원소의 개수를 입력한 다음 한 칸 띄고 찾을 문자열을 입력하세요.\n",
      "5 Dongbin\n",
      "앞서 적은 원소 개수만큼 문자열을 입력하세요. 구분은 띄어쓰기 한 칸으로 합니다.\n",
      "Hanul Jonggu Dongbin Taeil Sangwook\n",
      "['Hanul', 'Jonggu', 'Dongbin', 'Taeil', 'Sangwook']\n",
      "3\n"
     ]
    }
   ],
   "source": [
    "# 7-1 순차탐색\n",
    "\n",
    "def sequential_search(n, target, array):\n",
    "    for i in range(n):\n",
    "        if array[i] == target:\n",
    "            return i+1\n",
    "        \n",
    "print(\"생성할 원소의 개수를 입력한 다음 한 칸 띄고 찾을 문자열을 입력하세요.\")\n",
    "input_data = input().split()\n",
    "n = int(input_data[0])\n",
    "target = input_data[1]\n",
    "\n",
    "print(\"앞서 적은 원소 개수만큼 문자열을 입력하세요. 구분은 띄어쓰기 한 칸으로 합니다.\")\n",
    "array = input().split()\n",
    "# print(array)\n",
    "print(sequential_search(n, target, array))"
   ]
  },
  {
   "cell_type": "code",
   "execution_count": 14,
   "id": "77b1a452",
   "metadata": {},
   "outputs": [
    {
     "name": "stdout",
     "output_type": "stream",
     "text": [
      "10 7\n",
      "1 3 5 7 9 11 13 15 17 19\n",
      "4\n"
     ]
    }
   ],
   "source": [
    "# 7-2 이진탐색 - 재귀함수 이용\n",
    "\n",
    "def binary_search(array, target, start, end):\n",
    "    if start>end:\n",
    "        return None\n",
    "    \n",
    "    mid = (start+end)//2\n",
    "    \n",
    "    # 중간점 인덱스 값이 찾는 데이터인 경우\n",
    "    if array[mid]==target:\n",
    "        return mid\n",
    "    \n",
    "    # 중간점 인덱스 값보다 찾는 데이터가 작은 경우, 끝점을 중간점 바로 이전으로 이동\n",
    "    elif array[mid]>target:\n",
    "        end = mid - 1\n",
    "        return binary_search(array, target, start, end)\n",
    "        \n",
    "    # 중간점 인덱스 값보다 찾는 데이터가 큰 경우, 시작점을 중간점 바로 다음으로 이동\n",
    "    elif array[mid]<target:\n",
    "        start = mid + 1\n",
    "        return binary_search(array, target, start, end)\n",
    "\n",
    "# n:원소의 개수, target: 찾는 문자열 입력\n",
    "n, target = list(map(int, input().split()))\n",
    "# array: 전체 데이터\n",
    "array = list(map(int, input().split()))\n",
    "\n",
    "result = binary_search(array, target, 0, n-1)\n",
    "if result == None:\n",
    "    print(\"원소가 존재하지 않습니다.\")\n",
    "else:\n",
    "    print(result+1)"
   ]
  },
  {
   "cell_type": "code",
   "execution_count": 16,
   "id": "107d36f8",
   "metadata": {},
   "outputs": [
    {
     "name": "stdout",
     "output_type": "stream",
     "text": [
      "10 7\n",
      "1 3 5 7 9 11 13 15 17 19\n",
      "4\n"
     ]
    }
   ],
   "source": [
    "# 7-3. 이진탐색 - 반복문 이용\n",
    "\n",
    "def binary_search(array, target, start, end):\n",
    "    while start<=end:\n",
    "        \n",
    "        mid = (start+end)//2\n",
    "        \n",
    "        if array[mid] == target:\n",
    "            return mid\n",
    "        \n",
    "        elif array[mid]> target:\n",
    "            end = mid-1\n",
    "\n",
    "        elif array[mid]< target:\n",
    "            start = mid+1\n",
    "    return none\n",
    "            \n",
    "# n:원소의 개수, target: 찾는 문자열 입력\n",
    "n, target = list(map(int, input().split()))\n",
    "# array: 전체 데이터\n",
    "array = list(map(int, input().split()))\n",
    "\n",
    "result = binary_search(array, target, 0, n-1)\n",
    "if result == None:\n",
    "    print(\"원소가 존재하지 않습니다.\")\n",
    "else:\n",
    "    print(result+1)"
   ]
  },
  {
   "cell_type": "code",
   "execution_count": 21,
   "id": "9d9e5171",
   "metadata": {},
   "outputs": [
    {
     "name": "stdout",
     "output_type": "stream",
     "text": [
      "5\n",
      "8 3 7 9 2\n",
      "3\n",
      "5 7 9\n",
      "no yes yes "
     ]
    }
   ],
   "source": [
    "# 2. 부품 찾기 - 이진 탐색 이용\n",
    "def binary_search(array, target, start, end):\n",
    "    if start>end:\n",
    "        return None\n",
    "    \n",
    "    mid = (start + end)//2\n",
    "    \n",
    "    if array[mid] == target:\n",
    "        return mid\n",
    "    \n",
    "    elif array[mid] > target:\n",
    "        return binary_search(array, target, start, mid-1)\n",
    "    \n",
    "    elif array[mid] < target:\n",
    "        return binary_search(array, target, mid+1, end)\n",
    "    \n",
    "\n",
    "n = int(input())\n",
    "array = list(map(int, input().split()))\n",
    "array.sort()\n",
    "\n",
    "m = int(input())\n",
    "inq = list(map(int, input().split()))\n",
    "\n",
    "for i in inq:\n",
    "    result = binary_search(array, i, 0, n-1)\n",
    "    if result!=None:\n",
    "        print('yes', end= ' ')\n",
    "    else:\n",
    "        print('no', end=' ')"
   ]
  },
  {
   "cell_type": "code",
   "execution_count": 23,
   "id": "2f8b5064",
   "metadata": {},
   "outputs": [
    {
     "name": "stdout",
     "output_type": "stream",
     "text": [
      "5\n",
      "8 3 7 9 2\n",
      "3\n",
      "5 7 9\n",
      "no yes yes "
     ]
    }
   ],
   "source": [
    "# 2. 부품 찾기 - 계수 정렬 이용\n",
    "\n",
    "n = int(input())\n",
    "# n의 범위에 해당하는 크기의 리스트 생성(0으로 초기화)\n",
    "array = [0]*1000001\n",
    "\n",
    "# 입력 받은 부품 번호에 해당하는 인덱스의 값 1(있음)로 설정\n",
    "for i in input().split():\n",
    "    array[int(i)] = 1\n",
    "    \n",
    "m = int(input())\n",
    "inq = list(map(int, input().split()))\n",
    "\n",
    "# 손님이 찾는 부품 번호를 하나씩 확인\n",
    "for i in inq:\n",
    "    # 가게에 부품이 있는 경우\n",
    "    if array[i] == 1:\n",
    "        print(\"yes\", end=' ')\n",
    "    else:\n",
    "        print(\"no\", end=' ')        "
   ]
  },
  {
   "cell_type": "code",
   "execution_count": 24,
   "id": "77ca27d6",
   "metadata": {},
   "outputs": [
    {
     "name": "stdout",
     "output_type": "stream",
     "text": [
      "5\n",
      "8 3 7 9 2\n",
      "3\n",
      "5 7 9\n",
      "no yes yes "
     ]
    }
   ],
   "source": [
    "# 2. 부품 찾기 - 집합 자료형 이용\n",
    "\n",
    "n = int(input())\n",
    "array = set(map(int, input().split()))\n",
    "\n",
    "m = int(input())\n",
    "inq = list(map(int, input().split()))\n",
    "\n",
    "for i in inq:\n",
    "    if i in array:\n",
    "        print(\"yes\", end=' ')\n",
    "    else:\n",
    "        print('no', end=' ')"
   ]
  },
  {
   "cell_type": "code",
   "execution_count": 27,
   "id": "fc9b5fff",
   "metadata": {},
   "outputs": [
    {
     "name": "stdout",
     "output_type": "stream",
     "text": [
      "4 6\n",
      "19 15 10 17\n",
      "15\n"
     ]
    }
   ],
   "source": [
    "# 3. 떡볶이 떡 만들기\n",
    "\n",
    "n,m = list(map(int, input().split())) # n: 떡의 개수, m: 요청한 떡의 길이\n",
    "\n",
    "array = list(map(int, input().split())) # 떡의 개별 높이\n",
    "\n",
    "start = 0\n",
    "end = max(array) # 끝점: 가장 긴 떡의 길이\n",
    "\n",
    "result=0         # 절단기의 최대 높이\n",
    "\n",
    "while (start<=end):\n",
    "    total = 0    # 잘린 떡의 길이 총합\n",
    "    \n",
    "    mid = (start+end)//2 # 절단기 높이\n",
    "    \n",
    "    for i in array:\n",
    "        # 절단기 높이보다 떡이 긴 경우, 잘린 떡의 길이를 모두 더함\n",
    "        if i > mid:\n",
    "            total += i-mid\n",
    "    \n",
    "    # 잘린 떡의 길이 총합이 요청한 떡의 길이보다 작은 경우\n",
    "    if total < m: \n",
    "        end = mid - 1\n",
    "        \n",
    "    # 잘린 떡의 길이 총합이 요청한 떡의 길이와 같거나 큰 경우\n",
    "    else:\n",
    "        result = mid\n",
    "        start = mid + 1\n",
    "\n",
    "print(result)"
   ]
  },
  {
   "cell_type": "code",
   "execution_count": null,
   "id": "8f4d9df4",
   "metadata": {},
   "outputs": [],
   "source": []
  }
 ],
 "metadata": {
  "kernelspec": {
   "display_name": "Python 3 (ipykernel)",
   "language": "python",
   "name": "python3"
  },
  "language_info": {
   "codemirror_mode": {
    "name": "ipython",
    "version": 3
   },
   "file_extension": ".py",
   "mimetype": "text/x-python",
   "name": "python",
   "nbconvert_exporter": "python",
   "pygments_lexer": "ipython3",
   "version": "3.9.7"
  }
 },
 "nbformat": 4,
 "nbformat_minor": 5
}
