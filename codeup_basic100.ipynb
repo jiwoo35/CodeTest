{
 "cells": [
  {
   "cell_type": "code",
   "execution_count": 1,
   "id": "dc2d1af4",
   "metadata": {},
   "outputs": [
    {
     "name": "stdout",
     "output_type": "stream",
     "text": [
      "Hello World\n"
     ]
    }
   ],
   "source": [
    "print(\"Hello World\")"
   ]
  },
  {
   "cell_type": "code",
   "execution_count": 2,
   "id": "af7ddcff",
   "metadata": {},
   "outputs": [
    {
     "name": "stdout",
     "output_type": "stream",
     "text": [
      "Hello\n",
      "World\n"
     ]
    }
   ],
   "source": [
    "print(\"Hello\") \n",
    "print(\"World\")"
   ]
  },
  {
   "cell_type": "code",
   "execution_count": 3,
   "id": "089ad806",
   "metadata": {},
   "outputs": [
    {
     "name": "stdout",
     "output_type": "stream",
     "text": [
      "1\n",
      "1\n"
     ]
    }
   ],
   "source": [
    "n = input()\n",
    "n = int(n)\n",
    "print(n)"
   ]
  },
  {
   "cell_type": "code",
   "execution_count": 7,
   "id": "35bff994",
   "metadata": {},
   "outputs": [
    {
     "name": "stdout",
     "output_type": "stream",
     "text": [
      "a\n",
      "b\n",
      "b\n",
      "a\n"
     ]
    }
   ],
   "source": [
    "a = input() \n",
    "b = input()\n",
    "print(b)\n",
    "print(a)"
   ]
  },
  {
   "cell_type": "code",
   "execution_count": 10,
   "id": "ea5b5bbd",
   "metadata": {},
   "outputs": [
    {
     "name": "stdout",
     "output_type": "stream",
     "text": [
      "0.1\n",
      "0.1\n",
      "0.1\n",
      "0.1\n"
     ]
    }
   ],
   "source": [
    "n = input()\n",
    "n = float(n)\n",
    "\n",
    "for i in range(3):\n",
    "    print(n) "
   ]
  },
  {
   "cell_type": "code",
   "execution_count": 11,
   "id": "63a68828",
   "metadata": {},
   "outputs": [
    {
     "name": "stdout",
     "output_type": "stream",
     "text": [
      "1 2\n",
      "1\n",
      "2\n"
     ]
    }
   ],
   "source": [
    "a, b = input().split()\n",
    "a = int(a)\n",
    "b = int(b)\n",
    "print(a)\n",
    "print(b)"
   ]
  },
  {
   "cell_type": "code",
   "execution_count": 12,
   "id": "79027014",
   "metadata": {},
   "outputs": [
    {
     "name": "stdout",
     "output_type": "stream",
     "text": [
      "a b\n",
      "b a\n"
     ]
    }
   ],
   "source": [
    "a, b = input().split()\n",
    "print(b, a)"
   ]
  },
  {
   "cell_type": "code",
   "execution_count": 13,
   "id": "e160c6f2",
   "metadata": {},
   "outputs": [
    {
     "name": "stdout",
     "output_type": "stream",
     "text": [
      "computer science\n",
      "computer science computer science computer science\n"
     ]
    }
   ],
   "source": [
    "s = input()\n",
    "print(s, s, s)"
   ]
  },
  {
   "cell_type": "code",
   "execution_count": 14,
   "id": "4e9f413a",
   "metadata": {},
   "outputs": [
    {
     "name": "stdout",
     "output_type": "stream",
     "text": [
      "3:16\n",
      "3:16\n"
     ]
    }
   ],
   "source": [
    "a, b = input().split(\":\")\n",
    "print(a+\":\"+b)\n",
    "# print(a, b, sep=':') answer"
   ]
  },
  {
   "cell_type": "code",
   "execution_count": 16,
   "id": "fa47489b",
   "metadata": {},
   "outputs": [
    {
     "name": "stdout",
     "output_type": "stream",
     "text": [
      "2020.3.4\n",
      "4-3-2020\n"
     ]
    }
   ],
   "source": [
    "y,m,d = input().split(\".\")\n",
    "print(d,m,y, sep=\"-\")"
   ]
  },
  {
   "cell_type": "code",
   "execution_count": 29,
   "id": "1634f2bb",
   "metadata": {},
   "outputs": [
    {
     "name": "stdout",
     "output_type": "stream",
     "text": [
      "000907-1121112\n",
      "0009071121112\n"
     ]
    }
   ],
   "source": [
    "b,r = input().split(\"-\")\n",
    "print(b+r)\n",
    "# print(a,b,sep='') answer"
   ]
  },
  {
   "cell_type": "code",
   "execution_count": 35,
   "id": "b0dc9e5a",
   "metadata": {},
   "outputs": [
    {
     "name": "stdout",
     "output_type": "stream",
     "text": [
      "Hello\n",
      "H\n",
      "e\n",
      "l\n",
      "l\n",
      "o\n"
     ]
    }
   ],
   "source": [
    "s = input()\n",
    "\n",
    "for i in range(len(s)):\n",
    "    print(s[i])"
   ]
  },
  {
   "cell_type": "code",
   "execution_count": 38,
   "id": "9a888811",
   "metadata": {},
   "outputs": [
    {
     "name": "stdout",
     "output_type": "stream",
     "text": [
      "200304\n",
      "20 03 04\n"
     ]
    }
   ],
   "source": [
    "s = input()\n",
    "\n",
    "yy = s[0:2]\n",
    "mm = s[2:4]\n",
    "dd = s[4:6]\n",
    "\n",
    "print(yy,mm,dd)\n",
    "\n",
    "# print(s[0:2], s[2:4], s[4:6], sep=' ') answer"
   ]
  },
  {
   "cell_type": "code",
   "execution_count": 39,
   "id": "1336497b",
   "metadata": {},
   "outputs": [
    {
     "name": "stdout",
     "output_type": "stream",
     "text": [
      "17:23:57\n",
      "23\n"
     ]
    }
   ],
   "source": [
    "h,m,s = input().split(\":\")\n",
    "\n",
    "print(m)"
   ]
  },
  {
   "cell_type": "code",
   "execution_count": 40,
   "id": "37dda85e",
   "metadata": {},
   "outputs": [
    {
     "name": "stdout",
     "output_type": "stream",
     "text": [
      "hello world\n",
      "helloworld\n"
     ]
    }
   ],
   "source": [
    "w1, w2 = input().split()\n",
    "print(w1+w2)"
   ]
  },
  {
   "cell_type": "code",
   "execution_count": 47,
   "id": "044c2c11",
   "metadata": {},
   "outputs": [
    {
     "name": "stdout",
     "output_type": "stream",
     "text": [
      "123 -123\n",
      "0\n"
     ]
    }
   ],
   "source": [
    "a,b = input().split()\n",
    "\n",
    "print(int(a) + int(b))"
   ]
  },
  {
   "cell_type": "code",
   "execution_count": 49,
   "id": "e160a069",
   "metadata": {},
   "outputs": [
    {
     "name": "stdout",
     "output_type": "stream",
     "text": [
      "0.1\n",
      "0.9\n",
      "1.0\n"
     ]
    }
   ],
   "source": [
    "a = input()\n",
    "b = input()\n",
    "\n",
    "print(float(a) + float(b))"
   ]
  },
  {
   "cell_type": "code",
   "execution_count": 50,
   "id": "c3229bfb",
   "metadata": {},
   "outputs": [
    {
     "name": "stdout",
     "output_type": "stream",
     "text": [
      "255\n",
      "ff\n"
     ]
    }
   ],
   "source": [
    "a = input()\n",
    "n = int(a)\n",
    "print('%x' %n)"
   ]
  },
  {
   "cell_type": "code",
   "execution_count": 51,
   "id": "10f72d64",
   "metadata": {},
   "outputs": [
    {
     "name": "stdout",
     "output_type": "stream",
     "text": [
      "255\n",
      "FF\n"
     ]
    }
   ],
   "source": [
    "a = input()\n",
    "n = int(a)\n",
    "print('%X' %n)"
   ]
  },
  {
   "cell_type": "code",
   "execution_count": 52,
   "id": "b1c6eb09",
   "metadata": {},
   "outputs": [
    {
     "name": "stdout",
     "output_type": "stream",
     "text": [
      "f\n",
      "17\n"
     ]
    }
   ],
   "source": [
    "a = input()\n",
    "n = int(a, 16)\n",
    "print('%o' %n)"
   ]
  },
  {
   "cell_type": "code",
   "execution_count": 53,
   "id": "f4126c81",
   "metadata": {},
   "outputs": [
    {
     "name": "stdout",
     "output_type": "stream",
     "text": [
      "A\n",
      "65\n"
     ]
    }
   ],
   "source": [
    "a = ord(input())\n",
    "print(a)"
   ]
  },
  {
   "cell_type": "code",
   "execution_count": 55,
   "id": "335cd7ad",
   "metadata": {},
   "outputs": [
    {
     "name": "stdout",
     "output_type": "stream",
     "text": [
      "65\n",
      "A\n"
     ]
    }
   ],
   "source": [
    "a = int(input())\n",
    "print(chr(a))"
   ]
  },
  {
   "cell_type": "code",
   "execution_count": 56,
   "id": "e992c1c4",
   "metadata": {},
   "outputs": [
    {
     "name": "stdout",
     "output_type": "stream",
     "text": [
      "-1\n",
      "1\n"
     ]
    }
   ],
   "source": [
    "a = int(input())\n",
    "print(a*(-1))\n",
    "# print(-a) answer"
   ]
  },
  {
   "cell_type": "code",
   "execution_count": 62,
   "id": "dd13b0d5",
   "metadata": {},
   "outputs": [
    {
     "name": "stdout",
     "output_type": "stream",
     "text": [
      "a\n",
      "b\n"
     ]
    }
   ],
   "source": [
    "s = ord(input())\n",
    "\n",
    "print(chr(s+1))"
   ]
  },
  {
   "cell_type": "code",
   "execution_count": 67,
   "id": "f8775347",
   "metadata": {},
   "outputs": [
    {
     "name": "stdout",
     "output_type": "stream",
     "text": [
      "123 -123\n",
      "246\n"
     ]
    }
   ],
   "source": [
    "a,b = input().split()\n",
    "c = int(a) - int(b)\n",
    "print(c)"
   ]
  },
  {
   "cell_type": "code",
   "execution_count": 68,
   "id": "cbb02c04",
   "metadata": {},
   "outputs": [
    {
     "name": "stdout",
     "output_type": "stream",
     "text": [
      "0.5 2.0\n",
      "1.0\n"
     ]
    }
   ],
   "source": [
    "a,b = input().split()\n",
    "c = float(a) * float(b)\n",
    "print(c)"
   ]
  },
  {
   "cell_type": "code",
   "execution_count": 69,
   "id": "56a41dfc",
   "metadata": {},
   "outputs": [
    {
     "name": "stdout",
     "output_type": "stream",
     "text": [
      "love 3\n",
      "lovelovelove\n"
     ]
    }
   ],
   "source": [
    "s, n = input().split()\n",
    "cnt = int(n)\n",
    "\n",
    "print(s*cnt)"
   ]
  },
  {
   "cell_type": "code",
   "execution_count": 70,
   "id": "6a55a451",
   "metadata": {},
   "outputs": [
    {
     "name": "stdout",
     "output_type": "stream",
     "text": [
      "3\n",
      "I love CS\n",
      "I love CSI love CSI love CS\n"
     ]
    }
   ],
   "source": [
    "n = input()\n",
    "n = int(n)\n",
    "\n",
    "s = input()\n",
    "print(s*n)"
   ]
  },
  {
   "cell_type": "code",
   "execution_count": 72,
   "id": "789de121",
   "metadata": {},
   "outputs": [
    {
     "name": "stdout",
     "output_type": "stream",
     "text": [
      "2 10\n",
      "1024\n"
     ]
    }
   ],
   "source": [
    "a, b = input().split()\n",
    "a = int(a)\n",
    "b = int(b)\n",
    "print(a**b)"
   ]
  },
  {
   "cell_type": "code",
   "execution_count": 73,
   "id": "fb0b3925",
   "metadata": {},
   "outputs": [
    {
     "name": "stdout",
     "output_type": "stream",
     "text": [
      "4.0 2.0\n",
      "16.0\n"
     ]
    }
   ],
   "source": [
    "a, b = input().split()\n",
    "a = float(a)\n",
    "b = float(b)\n",
    "print(a**b)"
   ]
  },
  {
   "cell_type": "code",
   "execution_count": 77,
   "id": "957a26c3",
   "metadata": {},
   "outputs": [
    {
     "name": "stdout",
     "output_type": "stream",
     "text": [
      "10 3\n",
      "3\n"
     ]
    }
   ],
   "source": [
    "a, b = input().split()\n",
    "a = int(a)\n",
    "b = int(b)\n",
    "print(a//b)"
   ]
  },
  {
   "cell_type": "code",
   "execution_count": 79,
   "id": "1b53415d",
   "metadata": {},
   "outputs": [
    {
     "name": "stdout",
     "output_type": "stream",
     "text": [
      "10 3\n",
      "1\n"
     ]
    }
   ],
   "source": [
    "a, b = input().split()\n",
    "a = int(a)\n",
    "b = int(b)\n",
    "print(a%b)"
   ]
  },
  {
   "cell_type": "code",
   "execution_count": 81,
   "id": "34e2bb35",
   "metadata": {},
   "outputs": [
    {
     "name": "stdout",
     "output_type": "stream",
     "text": [
      "3.141592\n",
      "3.14\n"
     ]
    }
   ],
   "source": [
    "n = input()\n",
    "n = float(n)\n",
    "\n",
    "print(format(n, \".2f\"))"
   ]
  },
  {
   "cell_type": "code",
   "execution_count": 87,
   "id": "cfa381d2",
   "metadata": {},
   "outputs": [
    {
     "name": "stdout",
     "output_type": "stream",
     "text": [
      "10.0 3.0\n",
      "3.333\n"
     ]
    }
   ],
   "source": [
    "m, n = input().split()\n",
    "m = float(m)\n",
    "n = float(n)\n",
    "\n",
    "print(format(m/n, \".3f\"))"
   ]
  },
  {
   "cell_type": "code",
   "execution_count": 93,
   "id": "a63bda97",
   "metadata": {},
   "outputs": [
    {
     "name": "stdout",
     "output_type": "stream",
     "text": [
      "10 3\n",
      "13\n",
      "7\n",
      "30\n",
      "3\n",
      "1\n",
      "3.33\n"
     ]
    }
   ],
   "source": [
    "m, n = input().split()\n",
    "m = int(m)\n",
    "n = int(n)\n",
    "\n",
    "print(m+n)\n",
    "print(m-n)\n",
    "print(m*n)\n",
    "print(m//n)\n",
    "print(m%n)\n",
    "print(format(m/n, \".2f\"))"
   ]
  },
  {
   "cell_type": "code",
   "execution_count": 95,
   "id": "12320ff3",
   "metadata": {},
   "outputs": [
    {
     "name": "stdout",
     "output_type": "stream",
     "text": [
      "1 2 3\n",
      "6 2.00\n"
     ]
    }
   ],
   "source": [
    "a,b,c = input().split()\n",
    "\n",
    "a = int(a)\n",
    "b = int(b)\n",
    "c = int(c)\n",
    "\n",
    "abc_sum = a+b+c\n",
    "abc_mean = abc_sum / 3\n",
    "\n",
    "print(abc_sum, format(abc_mean, \".2f\"))"
   ]
  },
  {
   "cell_type": "code",
   "execution_count": 99,
   "id": "28846188",
   "metadata": {},
   "outputs": [
    {
     "name": "stdout",
     "output_type": "stream",
     "text": [
      "1024\n",
      "2048\n",
      "1024\n",
      "2048\n"
     ]
    }
   ],
   "source": [
    "n = int(input())\n",
    "print(n*2)\n",
    "\n",
    "# bit연산자 이용\n",
    "n = int(input())\n",
    "print(n<<1)"
   ]
  },
  {
   "cell_type": "code",
   "execution_count": 100,
   "id": "33847e88",
   "metadata": {},
   "outputs": [
    {
     "name": "stdout",
     "output_type": "stream",
     "text": [
      "1 3\n",
      "8\n"
     ]
    }
   ],
   "source": [
    "m, n = input().split()\n",
    "m = int(m)\n",
    "n = int(n)\n",
    "print(m<<n)"
   ]
  },
  {
   "cell_type": "code",
   "execution_count": 103,
   "id": "887b23b3",
   "metadata": {},
   "outputs": [
    {
     "name": "stdout",
     "output_type": "stream",
     "text": [
      "1 9\n",
      "True\n"
     ]
    }
   ],
   "source": [
    "a, b = input().split()\n",
    "a = int(a)\n",
    "b = int(b)\n",
    "\n",
    "if a<b:\n",
    "    print(\"True\")\n",
    "else:\n",
    "    print(\"False\")"
   ]
  },
  {
   "cell_type": "code",
   "execution_count": 104,
   "id": "ad6c8fd0",
   "metadata": {},
   "outputs": [
    {
     "name": "stdout",
     "output_type": "stream",
     "text": [
      "0 0\n",
      "True\n"
     ]
    }
   ],
   "source": [
    "a, b = input().split()\n",
    "a = int(a)\n",
    "b = int(b)\n",
    "\n",
    "if a==b:\n",
    "    print(\"True\")\n",
    "else:\n",
    "    print(\"False\")"
   ]
  },
  {
   "cell_type": "code",
   "execution_count": 105,
   "id": "ec273618",
   "metadata": {},
   "outputs": [
    {
     "name": "stdout",
     "output_type": "stream",
     "text": [
      "0 -1\n",
      "False\n"
     ]
    }
   ],
   "source": [
    "a, b = input().split()\n",
    "a = int(a)\n",
    "b = int(b)\n",
    "\n",
    "if a<=b:\n",
    "    print(\"True\")\n",
    "else:\n",
    "    print(\"False\")"
   ]
  },
  {
   "cell_type": "code",
   "execution_count": 106,
   "id": "7988c810",
   "metadata": {},
   "outputs": [
    {
     "name": "stdout",
     "output_type": "stream",
     "text": [
      "0 1\n",
      "True\n"
     ]
    }
   ],
   "source": [
    "a, b = input().split()\n",
    "a = int(a)\n",
    "b = int(b)\n",
    "\n",
    "if a!=b:\n",
    "    print(\"True\")\n",
    "else:\n",
    "    print(\"False\")"
   ]
  },
  {
   "cell_type": "code",
   "execution_count": 107,
   "id": "f93323a4",
   "metadata": {},
   "outputs": [
    {
     "name": "stdout",
     "output_type": "stream",
     "text": [
      "0\n",
      "False\n"
     ]
    }
   ],
   "source": [
    "n = int(input())\n",
    "\n",
    "print(bool(n))"
   ]
  },
  {
   "cell_type": "code",
   "execution_count": 108,
   "id": "bd4bac17",
   "metadata": {},
   "outputs": [
    {
     "name": "stdout",
     "output_type": "stream",
     "text": [
      "1\n",
      "False\n"
     ]
    }
   ],
   "source": [
    "n = int(input())\n",
    "\n",
    "print(not(bool(n)))"
   ]
  },
  {
   "cell_type": "code",
   "execution_count": 110,
   "id": "9b008779",
   "metadata": {},
   "outputs": [
    {
     "name": "stdout",
     "output_type": "stream",
     "text": [
      "1 1\n",
      "True\n"
     ]
    }
   ],
   "source": [
    "a, b = input().split()\n",
    "a = int(a)\n",
    "b = int(b)\n",
    "\n",
    "if bool(a) & bool(b):\n",
    "    print(\"True\")\n",
    "else:\n",
    "    print(\"False\")\n",
    "    \n",
    "# print(bool(int(a)) and bool(int(b))) answer"
   ]
  },
  {
   "cell_type": "code",
   "execution_count": 111,
   "id": "b6f51f88",
   "metadata": {},
   "outputs": [
    {
     "name": "stdout",
     "output_type": "stream",
     "text": [
      "1 1\n",
      "True\n"
     ]
    }
   ],
   "source": [
    "a, b = input().split()\n",
    "a = int(a)\n",
    "b = int(b)\n",
    "\n",
    "print(bool(int(a)) or bool(int(b)))"
   ]
  },
  {
   "cell_type": "code",
   "execution_count": 116,
   "id": "fde30788",
   "metadata": {},
   "outputs": [
    {
     "name": "stdout",
     "output_type": "stream",
     "text": [
      "1 1\n",
      "False\n"
     ]
    }
   ],
   "source": [
    "a, b = input().split()\n",
    "a = int(a)\n",
    "b = int(b)\n",
    "\n",
    "print(\"True\" if bool(int(a)) != bool(int(b)) else \"False\")\n",
    "\n",
    "# answer\n",
    "# c = bool(int(a))\n",
    "# d = bool(int(b))\n",
    "# print((c and (not d)) or ((not c) and d))"
   ]
  },
  {
   "cell_type": "code",
   "execution_count": 117,
   "id": "e7968a50",
   "metadata": {},
   "outputs": [
    {
     "name": "stdout",
     "output_type": "stream",
     "text": [
      "0 0\n",
      "True\n"
     ]
    }
   ],
   "source": [
    "a, b = input().split()\n",
    "a = int(a)\n",
    "b = int(b)\n",
    "\n",
    "print(\"True\" if bool(int(a)) == bool(int(b)) else \"False\")\n",
    "\n",
    "# answer\n",
    "# a = bool(int(a))\n",
    "# b = bool(int(b))\n",
    "# print(a==b) \n",
    "# or \n",
    "# print((a and b) or (not a and not b))"
   ]
  },
  {
   "cell_type": "code",
   "execution_count": 119,
   "id": "ec8e71da",
   "metadata": {},
   "outputs": [
    {
     "name": "stdout",
     "output_type": "stream",
     "text": [
      "0 0\n",
      "True\n"
     ]
    }
   ],
   "source": [
    "a, b = input().split()\n",
    "a = int(a)\n",
    "b = int(b)\n",
    "\n",
    "print(\"True\" if (bool(int(a))==False) and (bool(int(b))==False) else \"False\")\n",
    "\n",
    "# # answer\n",
    "# c= bool(int(a))\n",
    "# d= bool(int(b))\n",
    "# print( not (c or d) )\n",
    "# or\n",
    "# print( c==False and d==False )"
   ]
  },
  {
   "cell_type": "code",
   "execution_count": 120,
   "id": "675a29e7",
   "metadata": {},
   "outputs": [
    {
     "name": "stdout",
     "output_type": "stream",
     "text": [
      "2\n",
      "-3\n"
     ]
    }
   ],
   "source": [
    "# bit 연산자 - not: ~ 1->0, 0->1로 변환\n",
    "\n",
    "a = int(input())\n",
    "print(~a)"
   ]
  },
  {
   "cell_type": "code",
   "execution_count": 121,
   "id": "adec2a30",
   "metadata": {},
   "outputs": [
    {
     "name": "stdout",
     "output_type": "stream",
     "text": [
      "3 5\n",
      "1\n"
     ]
    }
   ],
   "source": [
    "# bit 연산자 - and: &\n",
    "\n",
    "a, b = input().split()\n",
    "a = int(a)\n",
    "b = int(b)\n",
    "print(a & b)"
   ]
  },
  {
   "cell_type": "code",
   "execution_count": 122,
   "id": "f1f99396",
   "metadata": {},
   "outputs": [
    {
     "name": "stdout",
     "output_type": "stream",
     "text": [
      "3 5\n",
      "7\n"
     ]
    }
   ],
   "source": [
    "# bit 연산자 - or: |\n",
    "\n",
    "a, b = input().split()\n",
    "a = int(a)\n",
    "b = int(b)\n",
    "print(a | b)"
   ]
  },
  {
   "cell_type": "code",
   "execution_count": 123,
   "id": "22efcba0",
   "metadata": {},
   "outputs": [
    {
     "name": "stdout",
     "output_type": "stream",
     "text": [
      "3 5\n",
      "6\n"
     ]
    }
   ],
   "source": [
    "# bit 연산자 - xor: ^\n",
    "\n",
    "a, b = input().split()\n",
    "a = int(a)\n",
    "b = int(b)\n",
    "print(a ^ b)"
   ]
  },
  {
   "cell_type": "code",
   "execution_count": 124,
   "id": "decbc474",
   "metadata": {},
   "outputs": [
    {
     "name": "stdout",
     "output_type": "stream",
     "text": [
      "123 456\n",
      "456\n"
     ]
    }
   ],
   "source": [
    "# 삼항 연산\n",
    "\n",
    "a, b = input().split()\n",
    "a = int(a)\n",
    "b = int(b)\n",
    "print(a if(a>b) else b)"
   ]
  },
  {
   "cell_type": "code",
   "execution_count": 126,
   "id": "a0408a29",
   "metadata": {},
   "outputs": [
    {
     "name": "stdout",
     "output_type": "stream",
     "text": [
      "3 -1 5\n",
      "-1\n"
     ]
    }
   ],
   "source": [
    "# 삼항 연산\n",
    "\n",
    "a, b, c = input().split()\n",
    "a = int(a)\n",
    "b = int(b)\n",
    "c = int(c)\n",
    "res = ((a if a<b else b) if((a if a<b else b)<c) else c)\n",
    "print(res)"
   ]
  },
  {
   "cell_type": "code",
   "execution_count": 131,
   "id": "c91d377e",
   "metadata": {},
   "outputs": [
    {
     "name": "stdout",
     "output_type": "stream",
     "text": [
      "1 2 4\n",
      "2\n",
      "4\n"
     ]
    }
   ],
   "source": [
    "a, b, c = input().split()\n",
    "\n",
    "a = int(a)\n",
    "b = int(b)\n",
    "c = int(c)\n",
    "total = [a, b, c]\n",
    "# print(total)\n",
    "\n",
    "for i in range(len(total)):\n",
    "    if total[i] % 2 == 0:\n",
    "        print(total[i])"
   ]
  },
  {
   "cell_type": "code",
   "execution_count": 132,
   "id": "8a5d5c9a",
   "metadata": {},
   "outputs": [
    {
     "name": "stdout",
     "output_type": "stream",
     "text": [
      "1 2 8\n",
      "odd\n",
      "even\n",
      "even\n"
     ]
    }
   ],
   "source": [
    "a, b, c = input().split()\n",
    "\n",
    "a = int(a)\n",
    "b = int(b)\n",
    "c = int(c)\n",
    "total = [a, b, c]\n",
    "# print(total)\n",
    "\n",
    "for i in range(len(total)):\n",
    "    if total[i] % 2 == 0:\n",
    "        print(\"even\")\n",
    "    else:\n",
    "        print(\"odd\")"
   ]
  },
  {
   "cell_type": "code",
   "execution_count": 134,
   "id": "156f9da1",
   "metadata": {},
   "outputs": [
    {
     "name": "stdout",
     "output_type": "stream",
     "text": [
      "-2147483648\n",
      "A\n"
     ]
    }
   ],
   "source": [
    "n = int(input())\n",
    "\n",
    "if (n<0) and (n % 2 == 0):\n",
    "    print('A')\n",
    "elif (n<0):\n",
    "    print(\"B\")\n",
    "elif (n>0) and (n % 2 == 0):\n",
    "    print(\"C\")\n",
    "else:\n",
    "    print(\"D\")"
   ]
  },
  {
   "cell_type": "code",
   "execution_count": 135,
   "id": "839bdac7",
   "metadata": {},
   "outputs": [
    {
     "name": "stdout",
     "output_type": "stream",
     "text": [
      "73\n",
      "B\n"
     ]
    }
   ],
   "source": [
    "score = int(input())\n",
    "\n",
    "if score>=90 and score<=100:\n",
    "    print(\"A\")\n",
    "elif score<90 and score>=70:\n",
    "    print(\"B\")\n",
    "elif score<70 and score>=40:\n",
    "    print(\"C\")\n",
    "else:\n",
    "    print(\"D\")\n",
    "    \n",
    "# answer >=90, >=70만 넣어도 된다.."
   ]
  },
  {
   "cell_type": "code",
   "execution_count": 137,
   "id": "d1e627a5",
   "metadata": {},
   "outputs": [
    {
     "name": "stdout",
     "output_type": "stream",
     "text": [
      "A\n",
      "best!!!\n"
     ]
    }
   ],
   "source": [
    "eval = input()\n",
    "\n",
    "if eval==\"A\":\n",
    "    print(\"best!!!\")\n",
    "elif eval==\"B\":\n",
    "    print(\"good!!\")\n",
    "elif eval==\"C\":\n",
    "    print(\"run!\")\n",
    "elif eval==\"D\":\n",
    "    print(\"slowly~\")\n",
    "else:\n",
    "    print(\"what?\")"
   ]
  },
  {
   "cell_type": "code",
   "execution_count": 138,
   "id": "c1d020a0",
   "metadata": {},
   "outputs": [
    {
     "name": "stdout",
     "output_type": "stream",
     "text": [
      "12\n",
      "winter\n"
     ]
    }
   ],
   "source": [
    "# 월별 계절 분류\n",
    "month = int(input())\n",
    "\n",
    "if month // 3 == 1: # 3, 4, 5\n",
    "    print(\"spring\")\n",
    "elif month // 3 == 2:\n",
    "    print(\"summer\")\n",
    "elif month // 3 == 3:\n",
    "    print(\"fall\")\n",
    "else:\n",
    "    print(\"winter\")"
   ]
  },
  {
   "cell_type": "code",
   "execution_count": 3,
   "id": "a71d8db9",
   "metadata": {},
   "outputs": [
    {
     "name": "stdout",
     "output_type": "stream",
     "text": [
      "7\n",
      "7\n",
      "4\n",
      "4\n",
      "3\n",
      "3\n",
      "0\n"
     ]
    }
   ],
   "source": [
    "n = 1 \n",
    "\n",
    "while n!=0:\n",
    "    n = int(input())\n",
    "    \n",
    "    if n!=0:\n",
    "        print(n)\n",
    "    \n",
    "# answer\n",
    "# while True:\n",
    "#     a=input()\n",
    "#     a=int(a)\n",
    "#     if a==0:\n",
    "#         break\n",
    "#     else:\n",
    "#         print(a)"
   ]
  },
  {
   "cell_type": "code",
   "execution_count": 5,
   "id": "9f947fdd",
   "metadata": {},
   "outputs": [
    {
     "name": "stdout",
     "output_type": "stream",
     "text": [
      "5\n",
      "5\n",
      "4\n",
      "3\n",
      "2\n",
      "1\n"
     ]
    }
   ],
   "source": [
    "n = int(input())\n",
    "\n",
    "while True:\n",
    "    print(n)\n",
    "    n -= 1\n",
    "    \n",
    "    if n==0:\n",
    "        break\n",
    "\n",
    "# answer\n",
    "# while n!=0:\n",
    "#     print(n)\n",
    "#     n=n-1"
   ]
  },
  {
   "cell_type": "code",
   "execution_count": 7,
   "id": "482b0208",
   "metadata": {},
   "outputs": [
    {
     "name": "stdout",
     "output_type": "stream",
     "text": [
      "5\n",
      "4\n",
      "3\n",
      "2\n",
      "1\n",
      "0\n"
     ]
    }
   ],
   "source": [
    "n = int(input())\n",
    "\n",
    "while True:    \n",
    "    n -= 1\n",
    "    print(n)\n",
    "    \n",
    "    if n==0:\n",
    "        break\n",
    "        \n",
    "# answer\n",
    "# while n!=0:\n",
    "#     n=n-1\n",
    "#     print(n)"
   ]
  },
  {
   "cell_type": "code",
   "execution_count": 11,
   "id": "5b76c889",
   "metadata": {},
   "outputs": [
    {
     "name": "stdout",
     "output_type": "stream",
     "text": [
      "f\n",
      "a b c d e f "
     ]
    }
   ],
   "source": [
    "c = ord(input())\n",
    "s = ord('a')\n",
    "\n",
    "while s<=c:\n",
    "    print(chr(s), end=' ')\n",
    "    s+=1"
   ]
  },
  {
   "cell_type": "code",
   "execution_count": 13,
   "id": "7ff3178f",
   "metadata": {},
   "outputs": [
    {
     "name": "stdout",
     "output_type": "stream",
     "text": [
      "4\n",
      "0\n",
      "1\n",
      "2\n",
      "3\n",
      "4\n"
     ]
    }
   ],
   "source": [
    "n = int(input())\n",
    "\n",
    "for i in range(n+1):\n",
    "    print(i)\n",
    "    \n",
    "# anwer\n",
    "# i=0\n",
    "# while i<=n:\n",
    "#     print(i)\n",
    "#     i+=1"
   ]
  },
  {
   "cell_type": "code",
   "execution_count": 15,
   "id": "6e067dc7",
   "metadata": {},
   "outputs": [
    {
     "name": "stdout",
     "output_type": "stream",
     "text": [
      "5\n",
      "6\n"
     ]
    }
   ],
   "source": [
    "n = int(input())\n",
    "\n",
    "even_sum = 0\n",
    "\n",
    "for i in range(n+1):\n",
    "    if i % 2 == 0:\n",
    "        even_sum += i\n",
    "\n",
    "print(even_sum)"
   ]
  },
  {
   "cell_type": "code",
   "execution_count": 16,
   "id": "bd21afca",
   "metadata": {
    "scrolled": true
   },
   "outputs": [
    {
     "name": "stdout",
     "output_type": "stream",
     "text": [
      "x\n",
      "x\n",
      "b\n",
      "b\n",
      "k\n",
      "k\n",
      "d\n",
      "d\n",
      "l\n",
      "l\n",
      "q\n",
      "q\n",
      "q\n"
     ]
    }
   ],
   "source": [
    "ans = 'q'\n",
    "\n",
    "while True:\n",
    "    s = input()\n",
    "    print(s)\n",
    "    \n",
    "    if s == ans:\n",
    "        break"
   ]
  },
  {
   "cell_type": "code",
   "execution_count": 31,
   "id": "6a482fb6",
   "metadata": {},
   "outputs": [
    {
     "name": "stdout",
     "output_type": "stream",
     "text": [
      "55\n",
      "10\n"
     ]
    }
   ],
   "source": [
    "tot = 0\n",
    "n = int(input())\n",
    "\n",
    "# for문\n",
    "# i = 1\n",
    "# for i in range(n):\n",
    "#     tot += i\n",
    "    \n",
    "#     if tot>=n:\n",
    "#         break\n",
    "\n",
    "# print(i)\n",
    "\n",
    "# while문\n",
    "# i=0\n",
    "# while n>tot:\n",
    "#     i += 1\n",
    "#     tot += i\n",
    "\n",
    "# print(i)"
   ]
  },
  {
   "cell_type": "code",
   "execution_count": 34,
   "id": "c10842c4",
   "metadata": {},
   "outputs": [
    {
     "name": "stdout",
     "output_type": "stream",
     "text": [
      "2 3\n",
      "1 1\n",
      "1 2\n",
      "1 3\n",
      "2 1\n",
      "2 2\n",
      "2 3\n"
     ]
    }
   ],
   "source": [
    "m,n = input().split()\n",
    "\n",
    "m = int(m)\n",
    "n = int(n)\n",
    "\n",
    "for i in range(1,m+1):\n",
    "    for j in range(1, n+1):\n",
    "        print(i, j)"
   ]
  },
  {
   "cell_type": "code",
   "execution_count": 51,
   "id": "e6c3e423",
   "metadata": {},
   "outputs": [
    {
     "name": "stdout",
     "output_type": "stream",
     "text": [
      "B\n",
      "B*1=B\n",
      "B*2=16\n",
      "B*3=21\n",
      "B*4=2C\n",
      "B*5=37\n",
      "B*6=42\n",
      "B*7=4D\n",
      "B*8=58\n",
      "B*9=63\n",
      "B*A=6E\n",
      "B*B=79\n",
      "B*C=84\n",
      "B*D=8F\n",
      "B*E=9A\n",
      "B*F=A5\n"
     ]
    }
   ],
   "source": [
    "n = input() # A~F\n",
    "n = int(n, 16)\n",
    "\n",
    "for i in range(1,16):\n",
    "#     print('%X' %n, '*%X' %i, '=%X' %(n*i), sep='')\n",
    "    print('%X*%X=%X' %(n, i, (n*i)))"
   ]
  },
  {
   "cell_type": "code",
   "execution_count": 58,
   "id": "89365aae",
   "metadata": {
    "scrolled": true
   },
   "outputs": [
    {
     "name": "stdout",
     "output_type": "stream",
     "text": [
      "9\n",
      "1 2 X 4 5 X 7 8 X "
     ]
    }
   ],
   "source": [
    "# 3 6 9\n",
    "n = int(input())\n",
    "\n",
    "for i in range(1, n+1):\n",
    "    if (i % 10 == 3) or (i % 10 == 6) or (i % 10 == 9):\n",
    "        print(\"X\", end=' ')\n",
    "        continue\n",
    "    print(i, end=' ')\n",
    "\n",
    "# answer # continue 대신 else 구문"
   ]
  },
  {
   "cell_type": "code",
   "execution_count": 59,
   "id": "99bddc5d",
   "metadata": {},
   "outputs": [
    {
     "name": "stdout",
     "output_type": "stream",
     "text": [
      "2 2 2\n",
      "0 0 0\n",
      "0 0 1\n",
      "0 1 0\n",
      "0 1 1\n",
      "1 0 0\n",
      "1 0 1\n",
      "1 1 0\n",
      "1 1 1\n",
      "8\n"
     ]
    }
   ],
   "source": [
    "# r g b\n",
    "\n",
    "r,g,b = input().split()\n",
    "\n",
    "r = int(r)\n",
    "g = int(g)\n",
    "b = int(b)\n",
    "\n",
    "cnt = 0\n",
    "for i in range(r):\n",
    "    for j in range(g):\n",
    "        for k in range(b):\n",
    "            print(i, j, k)\n",
    "            \n",
    "cnt = r*g*b\n",
    "print(cnt)"
   ]
  },
  {
   "cell_type": "code",
   "execution_count": 62,
   "id": "5950fdb5",
   "metadata": {},
   "outputs": [
    {
     "name": "stdout",
     "output_type": "stream",
     "text": [
      "44100 16 2 10\n",
      "1.7 MB\n"
     ]
    }
   ],
   "source": [
    "# 소리 파일 저장 용량 계산하기\n",
    "\n",
    "# h: 1초동안 체크하는 횟수(hz)\n",
    "# b: 1번 체크한 값 저장시 사용하는 비트수\n",
    "# c: 채널수(모노: 1, 스테레오 2)\n",
    "# s: 녹음할 시간(초)\n",
    "# ex) cd = 44.1*1000*16*2*1bit/8bit/1024byte/1024kb = 0.168MB\n",
    "\n",
    "h,b,c,s = input().split()\n",
    "h = int(h)\n",
    "b = int(b)\n",
    "c = int(c)\n",
    "s = int(s)\n",
    "\n",
    "cd = h*b*c*s/8/1024/1024\n",
    "\n",
    "print(format(cd, \"0.1f\"), \"MB\")\n",
    "\n",
    "# answer\n",
    "# print(round(cd, 1), \"MB\")"
   ]
  },
  {
   "cell_type": "code",
   "execution_count": 63,
   "id": "3540a630",
   "metadata": {},
   "outputs": [
    {
     "name": "stdout",
     "output_type": "stream",
     "text": [
      "1024 768 24\n",
      "2.25 MB\n"
     ]
    }
   ],
   "source": [
    "# 그림 파일 저장 용량 계산하기\n",
    "\n",
    "# r, g, b 8 bit (0~255) * 3 = 총 24bit\n",
    "# 0, 1 2^24가지 \n",
    "\n",
    "# ex) 1024*768 size\n",
    "# 1024*768*24bit/8bit/1024byte/1024kb = 2.25MB\n",
    "\n",
    "w,h,b = input().split()\n",
    "w=int(w)\n",
    "h=int(h)\n",
    "b=int(b)\n",
    "\n",
    "img = w*h*b/8/1024/1024\n",
    "\n",
    "print(format(img, \"0.2f\"), \"MB\")"
   ]
  },
  {
   "cell_type": "code",
   "execution_count": 67,
   "id": "7ca93b25",
   "metadata": {},
   "outputs": [
    {
     "name": "stdout",
     "output_type": "stream",
     "text": [
      "1\n",
      "1\n"
     ]
    }
   ],
   "source": [
    "n = int(input())\n",
    "\n",
    "total = 0\n",
    "\n",
    "i=0\n",
    "while True:\n",
    "    i+=1\n",
    "    total+=i\n",
    "    \n",
    "    if n<=total:\n",
    "        break\n",
    "\n",
    "print(total)"
   ]
  },
  {
   "cell_type": "code",
   "execution_count": 69,
   "id": "1a5ade21",
   "metadata": {},
   "outputs": [
    {
     "name": "stdout",
     "output_type": "stream",
     "text": [
      "10\n",
      "1 2 4 5 7 8 10 "
     ]
    }
   ],
   "source": [
    "# 3의 배수는 통과\n",
    "\n",
    "n = int(input())\n",
    "\n",
    "for i in range(1,n+1):\n",
    "    if i % 3 == 0:\n",
    "        continue\n",
    "    print(i,end=\" \")\n"
   ]
  },
  {
   "cell_type": "code",
   "execution_count": 72,
   "id": "2e6bf518",
   "metadata": {},
   "outputs": [
    {
     "name": "stdout",
     "output_type": "stream",
     "text": [
      "1 3 5\n",
      "13\n"
     ]
    }
   ],
   "source": [
    "# 등차수열\n",
    "a,d,n = input().split()\n",
    "a = int(a)\n",
    "d = int(d)\n",
    "n = int(n)\n",
    "\n",
    "ans = d*(n-1)+ a\n",
    "\n",
    "print(ans)\n",
    "\n",
    "\n",
    "# answer\n",
    "# ans = a\n",
    "# for i in range(2, n+1):\n",
    "#     ans+=d\n",
    "    \n",
    "# print(ans)"
   ]
  },
  {
   "cell_type": "code",
   "execution_count": 75,
   "id": "d003bb98",
   "metadata": {},
   "outputs": [
    {
     "name": "stdout",
     "output_type": "stream",
     "text": [
      "2 3 7\n",
      "1458\n"
     ]
    }
   ],
   "source": [
    "# 등비수열\n",
    "a,r,n = input().split()\n",
    "a = int(a)\n",
    "r = int(r)\n",
    "n = int(n)\n",
    "\n",
    "ans = a\n",
    "for i in range(2, n+1):\n",
    "    ans *= r\n",
    "\n",
    "print(ans)"
   ]
  },
  {
   "cell_type": "code",
   "execution_count": 77,
   "id": "24949aac",
   "metadata": {},
   "outputs": [
    {
     "name": "stdout",
     "output_type": "stream",
     "text": [
      "1 -2 1 8\n",
      "-85\n"
     ]
    }
   ],
   "source": [
    "a,m,d,n = input().split()\n",
    "a = int(a)\n",
    "m = int(m)\n",
    "d = int(d)\n",
    "n = int(n)\n",
    "\n",
    "for i in range(1, n):\n",
    "    a = a * m + d\n",
    "    \n",
    "print(a)"
   ]
  },
  {
   "cell_type": "code",
   "execution_count": 81,
   "id": "57d9a287",
   "metadata": {},
   "outputs": [
    {
     "name": "stdout",
     "output_type": "stream",
     "text": [
      "3 7 9\n",
      "63\n"
     ]
    }
   ],
   "source": [
    "# 동시에 방문하는날\n",
    "\n",
    "a,b,c = input().split()\n",
    "a = int(a)\n",
    "b = int(b)\n",
    "c = int(c)\n",
    "\n",
    "day = 1\n",
    "while True:\n",
    "    if (day%a!=0) or (day%b!=0) or (day%c!=0):\n",
    "        day += 1\n",
    "    else:\n",
    "        break\n",
    "print(day)"
   ]
  },
  {
   "cell_type": "code",
   "execution_count": 88,
   "id": "c20d57b9",
   "metadata": {},
   "outputs": [
    {
     "name": "stdout",
     "output_type": "stream",
     "text": [
      "10\n",
      "1 3 2 2 5 6 7 4 5 9\n",
      "1 2 1 1 2 1 1 0 1 0 0 0 0 0 0 0 0 0 0 0 0 0 0 "
     ]
    }
   ],
   "source": [
    "# 이상한 출석 번호 부르기1\n",
    "\n",
    "n = int(input()) # 부른 횟수\n",
    "a = input().split() # 부른 번호\n",
    "# print(type(a)) # list\n",
    "\n",
    "# 부른 번호 int로 변경하여 저장\n",
    "for i in range(n):\n",
    "    a[i] = int(a[i])\n",
    "\n",
    "# 1~23번 부른 횟수 초기화\n",
    "d = []\n",
    "for i in range(24):\n",
    "    d.append(0)\n",
    "    \n",
    "# 부른 번호 카운팅\n",
    "for i in range(n):\n",
    "    d[a[i]] +=1 # d[1]이면 1번 1 증가, d[2]면 2번 1 증가\n",
    "    \n",
    "# 1~23번 부른 횟수 출력\n",
    "for i in range(1, 24):\n",
    "    print(d[i], end=' ')"
   ]
  },
  {
   "cell_type": "code",
   "execution_count": 89,
   "id": "f6c053cd",
   "metadata": {},
   "outputs": [
    {
     "name": "stdout",
     "output_type": "stream",
     "text": [
      "10\n",
      "10 4 2 3 6 6 7 9 8 5\n",
      "5 8 9 7 6 6 3 2 4 10 "
     ]
    }
   ],
   "source": [
    "# 이상한 출석 번호 부르기2\n",
    "\n",
    "n = int(input()) # 부른 횟수\n",
    "a = input().split() # 부른 번호\n",
    "\n",
    "# 부른 번호 int로 변경하여 저장\n",
    "for i in range(n):\n",
    "    a[i] = int(a[i])\n",
    "    \n",
    "# 부른 번호 거꾸로 출력 - (시작, 끝, 간격)\n",
    "for i in range(n-1,-1,-1):\n",
    "    print(a[i], end = ' ')"
   ]
  },
  {
   "cell_type": "code",
   "execution_count": 93,
   "id": "df3bae05",
   "metadata": {},
   "outputs": [
    {
     "name": "stdout",
     "output_type": "stream",
     "text": [
      "10\n",
      "10 4 2 3 6 6 7 9 8 5\n",
      "2\n"
     ]
    }
   ],
   "source": [
    "# 이상한 출석 번호 부르기3\n",
    "\n",
    "n = int(input()) # 부른 횟수\n",
    "a = input().split() # 부른 번호\n",
    "\n",
    "# 부른 번호 int로 변경하여 저장\n",
    "for i in range(n):\n",
    "    a[i] = int(a[i])\n",
    "\n",
    "print(min(a))\n",
    "\n",
    "# answer\n",
    "# min_num = a[0]\n",
    "# for i in range(n):\n",
    "#     if a[i] < min_num:\n",
    "#         min_num = a[i]\n",
    "\n",
    "# print(min_num)"
   ]
  },
  {
   "cell_type": "code",
   "execution_count": 98,
   "id": "1819f78f",
   "metadata": {},
   "outputs": [
    {
     "name": "stdout",
     "output_type": "stream",
     "text": [
      "5\n",
      "1 1\n",
      "2 2\n",
      "3 3\n",
      "4 4\n",
      "5 5\n",
      "1 0 0 0 0 0 0 0 0 0 0 0 0 0 0 0 0 0 0 \n",
      "0 1 0 0 0 0 0 0 0 0 0 0 0 0 0 0 0 0 0 \n",
      "0 0 1 0 0 0 0 0 0 0 0 0 0 0 0 0 0 0 0 \n",
      "0 0 0 1 0 0 0 0 0 0 0 0 0 0 0 0 0 0 0 \n",
      "0 0 0 0 1 0 0 0 0 0 0 0 0 0 0 0 0 0 0 \n",
      "0 0 0 0 0 0 0 0 0 0 0 0 0 0 0 0 0 0 0 \n",
      "0 0 0 0 0 0 0 0 0 0 0 0 0 0 0 0 0 0 0 \n",
      "0 0 0 0 0 0 0 0 0 0 0 0 0 0 0 0 0 0 0 \n",
      "0 0 0 0 0 0 0 0 0 0 0 0 0 0 0 0 0 0 0 \n",
      "0 0 0 0 0 0 0 0 0 0 0 0 0 0 0 0 0 0 0 \n",
      "0 0 0 0 0 0 0 0 0 0 0 0 0 0 0 0 0 0 0 \n",
      "0 0 0 0 0 0 0 0 0 0 0 0 0 0 0 0 0 0 0 \n",
      "0 0 0 0 0 0 0 0 0 0 0 0 0 0 0 0 0 0 0 \n",
      "0 0 0 0 0 0 0 0 0 0 0 0 0 0 0 0 0 0 0 \n",
      "0 0 0 0 0 0 0 0 0 0 0 0 0 0 0 0 0 0 0 \n",
      "0 0 0 0 0 0 0 0 0 0 0 0 0 0 0 0 0 0 0 \n",
      "0 0 0 0 0 0 0 0 0 0 0 0 0 0 0 0 0 0 0 \n",
      "0 0 0 0 0 0 0 0 0 0 0 0 0 0 0 0 0 0 0 \n",
      "0 0 0 0 0 0 0 0 0 0 0 0 0 0 0 0 0 0 0 \n"
     ]
    }
   ],
   "source": [
    "# 바둑판에 흰 돌 놓기\n",
    "\n",
    "# 바둑판(d: 19*19) 0으로 초기화\n",
    "d = []\n",
    "for i in range(20):\n",
    "    d.append([])\n",
    "    for j in range(20):\n",
    "        d[i].append(0)\n",
    "        \n",
    "n = int(input()) # n: 흰돌의 개수\n",
    "\n",
    "# 흰돌이 놓인 위치 설정\n",
    "for i in range(n):\n",
    "    x, y = input().split() # 흰돌의 위치: (x,y)\n",
    "    d[int(x)][int(y)] = 1 # 흰돌이 놓인 위치 1로 변경\n",
    "    \n",
    "# 전체 바둑판 출력\n",
    "for i in range(1, 20):\n",
    "    for j in range(1, 20):\n",
    "        print(d[i][j], end=' ')\n",
    "    print(\"\")"
   ]
  },
  {
   "cell_type": "code",
   "execution_count": 109,
   "id": "f3826298",
   "metadata": {},
   "outputs": [
    {
     "name": "stdout",
     "output_type": "stream",
     "text": [
      "0 0 0 0 0 0 0 0 0 1 0 1 0 0 0 0 0 0 0\n",
      "0 0 0 0 0 0 0 0 0 1 0 1 0 0 0 0 0 0 0\n",
      "0 0 0 0 0 0 0 0 0 1 0 1 0 0 0 0 0 0 0\n",
      "0 0 0 0 0 0 0 0 0 1 0 1 0 0 0 0 0 0 0\n",
      "0 0 0 0 0 0 0 0 0 1 0 1 0 0 0 0 0 0 0\n",
      "0 0 0 0 0 0 0 0 0 1 0 1 0 0 0 0 0 0 0\n",
      "0 0 0 0 0 0 0 0 0 1 0 1 0 0 0 0 0 0 0\n",
      "0 0 0 0 0 0 0 0 0 1 0 1 0 0 0 0 0 0 0\n",
      "0 0 0 0 0 0 0 0 0 1 0 1 0 0 0 0 0 0 0\n",
      "1 1 1 1 1 1 1 1 1 1 1 1 1 1 1 1 1 1 1\n",
      "0 0 0 0 0 0 0 0 0 1 0 1 0 0 0 0 0 0 0\n",
      "1 1 1 1 1 1 1 1 1 1 1 1 1 1 1 1 1 1 1\n",
      "0 0 0 0 0 0 0 0 0 1 0 1 0 0 0 0 0 0 0\n",
      "0 0 0 0 0 0 0 0 0 1 0 1 0 0 0 0 0 0 0\n",
      "0 0 0 0 0 0 0 0 0 1 0 1 0 0 0 0 0 0 0\n",
      "0 0 0 0 0 0 0 0 0 1 0 1 0 0 0 0 0 0 0\n",
      "0 0 0 0 0 0 0 0 0 1 0 1 0 0 0 0 0 0 0\n",
      "0 0 0 0 0 0 0 0 0 1 0 1 0 0 0 0 0 0 0\n",
      "0 0 0 0 0 0 0 0 0 1 0 1 0 0 0 0 0 0 0\n",
      "2\n",
      "10 10\n",
      "12 12\n",
      "0 0 0 0 0 0 0 0 0 0 0 0 0 0 0 0 0 0 0 \n",
      "0 0 0 0 0 0 0 0 0 0 0 0 0 0 0 0 0 0 0 \n",
      "0 0 0 0 0 0 0 0 0 0 0 0 0 0 0 0 0 0 0 \n",
      "0 0 0 0 0 0 0 0 0 0 0 0 0 0 0 0 0 0 0 \n",
      "0 0 0 0 0 0 0 0 0 0 0 0 0 0 0 0 0 0 0 \n",
      "0 0 0 0 0 0 0 0 0 0 0 0 0 0 0 0 0 0 0 \n",
      "0 0 0 0 0 0 0 0 0 0 0 0 0 0 0 0 0 0 0 \n",
      "0 0 0 0 0 0 0 0 0 0 0 0 0 0 0 0 0 0 0 \n",
      "0 0 0 0 0 0 0 0 0 0 0 0 0 0 0 0 0 0 0 \n",
      "0 0 0 0 0 0 0 0 0 1 0 1 0 0 0 0 0 0 0 \n",
      "0 0 0 0 0 0 0 0 0 0 0 0 0 0 0 0 0 0 0 \n",
      "0 0 0 0 0 0 0 0 0 1 0 1 0 0 0 0 0 0 0 \n",
      "0 0 0 0 0 0 0 0 0 0 0 0 0 0 0 0 0 0 0 \n",
      "0 0 0 0 0 0 0 0 0 0 0 0 0 0 0 0 0 0 0 \n",
      "0 0 0 0 0 0 0 0 0 0 0 0 0 0 0 0 0 0 0 \n",
      "0 0 0 0 0 0 0 0 0 0 0 0 0 0 0 0 0 0 0 \n",
      "0 0 0 0 0 0 0 0 0 0 0 0 0 0 0 0 0 0 0 \n",
      "0 0 0 0 0 0 0 0 0 0 0 0 0 0 0 0 0 0 0 \n",
      "0 0 0 0 0 0 0 0 0 0 0 0 0 0 0 0 0 0 0 \n"
     ]
    }
   ],
   "source": [
    "# 바둑알 십자 뒤집기 (Fail!)\n",
    "\n",
    "# 바둑판(d: 19*19) 0으로 초기화\n",
    "d = []\n",
    "for i in range(20):\n",
    "    d.append([])\n",
    "    for j in range(20):\n",
    "        d[i].append(0)\n",
    "\n",
    "# 바둑판(d: 19*19) 입력값 설정\n",
    "for i in range(19): # row\n",
    "    b = input().split()\n",
    "    for j in range(19): # col\n",
    "        d[i+1][j+1] = int(b[j]) #? 1행부터 19행까지 b의 열의 값을 열에 하나씩 채운다\n",
    "        \n",
    "# 바꿀 횟수, 바꿀 위치 입력\n",
    "n = int(input()) # n: 십자 뒤집기 횟수\n",
    "\n",
    "# 뒤집기\n",
    "for i in range(n):\n",
    "    x, y = input().split() # 바꿀 위치: (x, y)\n",
    "    for j in range(1,20):\n",
    "        if d[j][int(y)]==0:\n",
    "            d[j][int(y)]=1\n",
    "        else:\n",
    "            d[j][int(y)]=0\n",
    "            \n",
    "        if d[int(x)][j]==0:\n",
    "            d[int(x)][j]=1\n",
    "        else:\n",
    "            d[int(x)][j]=0\n",
    "        \n",
    "        \n",
    "# 전체 바둑판 출력\n",
    "for i in range(1, 20):\n",
    "    for j in range(1, 20):\n",
    "        print(d[i][j], end=' ')\n",
    "    print(\"\")"
   ]
  },
  {
   "cell_type": "code",
   "execution_count": 116,
   "id": "14ed9296",
   "metadata": {},
   "outputs": [
    {
     "name": "stdout",
     "output_type": "stream",
     "text": [
      "5 5\n",
      "3\n",
      "2 0 1 1\n",
      "3 1 2 3\n",
      "4 1 2 5\n",
      "1 1 0 0 0 \n",
      "0 0 1 0 1 \n",
      "0 0 1 0 1 \n",
      "0 0 1 0 1 \n",
      "0 0 0 0 1 \n"
     ]
    }
   ],
   "source": [
    "# 설탕과자 뽑기\n",
    "\n",
    "h, w = input().split() # 세로, 가로\n",
    "h = int(h)\n",
    "w = int(w)\n",
    "\n",
    "# 격자판 0으로 초기화 - a[0][0]부터 시작\n",
    "a=[]\n",
    "for i in range(h):\n",
    "    a.append([])\n",
    "    for j in range(w):\n",
    "        a[i].append(0)\n",
    "\n",
    "n = int(input()) # 막대의 개수\n",
    "\n",
    "# 막대 개수만큼 막대 길이, 방향, 좌표 입력 - a[][]저장 시 인덱스값 1씩 감소시켜 저장\n",
    "for i in range(n):\n",
    "    l,d,x,y = input().split()\n",
    "    l = int(l)\n",
    "    d = int(d)\n",
    "    x = int(x)\n",
    "    y = int(y)\n",
    "    \n",
    "    if d==0: \n",
    "        for j in range(y, y+l):\n",
    "            a[x-1][j-1] = 1\n",
    "    else:\n",
    "        for k in range(x, x+l):\n",
    "            a[k-1][y-1] = 1\n",
    "\n",
    "# 전체 출력\n",
    "for i in range(h):\n",
    "    for j in range(w):\n",
    "        print(a[i][j], end=' ')\n",
    "    print(\"\")"
   ]
  },
  {
   "cell_type": "code",
   "execution_count": null,
   "id": "c8963714",
   "metadata": {},
   "outputs": [],
   "source": [
    "# 성실한 개미\n",
    "\n",
    "s"
   ]
  }
 ],
 "metadata": {
  "kernelspec": {
   "display_name": "Python 3 (ipykernel)",
   "language": "python",
   "name": "python3"
  },
  "language_info": {
   "codemirror_mode": {
    "name": "ipython",
    "version": 3
   },
   "file_extension": ".py",
   "mimetype": "text/x-python",
   "name": "python",
   "nbconvert_exporter": "python",
   "pygments_lexer": "ipython3",
   "version": "3.9.7"
  }
 },
 "nbformat": 4,
 "nbformat_minor": 5
}
