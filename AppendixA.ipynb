{
 "cells": [
  {
   "cell_type": "markdown",
   "id": "f247d26e",
   "metadata": {},
   "source": [
    "### List Comprehension"
   ]
  },
  {
   "cell_type": "code",
   "execution_count": 6,
   "id": "bd1fb10c",
   "metadata": {},
   "outputs": [
    {
     "name": "stdout",
     "output_type": "stream",
     "text": [
      "[[0, 0, 0, 0], [0, 0, 0, 0], [0, 0, 0, 0]]\n",
      "1570691576448\n",
      "1570614897072\n",
      "1570614896912\n",
      "[[0, 0, 0, 0], [0, 5, 0, 0], [0, 0, 0, 0]]\n"
     ]
    }
   ],
   "source": [
    "# NxM 크기의 2차원 리스트 초기화\n",
    "n = 3\n",
    "m = 4\n",
    "array = [[0] * m for _ in range(n)]\n",
    "print(array)\n",
    "print(id(array))\n",
    "\n",
    "array[1][1]=5\n",
    "print(id(array[1][1]))\n",
    "print(id(array[0][1])) # 서로 다른 메모리 주소 참조\n",
    "print(array)"
   ]
  },
  {
   "cell_type": "code",
   "execution_count": 7,
   "id": "b883f1ba",
   "metadata": {},
   "outputs": [
    {
     "name": "stdout",
     "output_type": "stream",
     "text": [
      "[[0, 0, 0, 0], [0, 0, 0, 0], [0, 0, 0, 0]]\n",
      "1570691574528\n",
      "1570614897072\n",
      "1570614897072\n",
      "1570614897072\n",
      "[[0, 5, 0, 0], [0, 5, 0, 0], [0, 5, 0, 0]]\n"
     ]
    }
   ],
   "source": [
    "# NxM 크기의 2차원 리스트 초기화 (잘못된 방법 - 위의 리스트 컴프리헨션을 이용해야!)\n",
    "n = 3\n",
    "m = 4\n",
    "array2 = [[0] * m] * n\n",
    "print(array2)\n",
    "print(id(array2))\n",
    "\n",
    "array2[1][1]=5\n",
    "print(id(array2[1][1]))\n",
    "print(id(array2[0][1])) \n",
    "print(id(array2[2][1])) # 서로 같은 메모리 주소 참조\n",
    "print(array2)"
   ]
  },
  {
   "cell_type": "markdown",
   "id": "a97794f8",
   "metadata": {},
   "source": [
    "### List Time Complexity\n",
    "- insert(): O(N)\n",
    "- append(): O(1) - insert() 대신 append() 사용\n",
    "- remove(): O(N)"
   ]
  },
  {
   "cell_type": "code",
   "execution_count": 11,
   "id": "c06f7675",
   "metadata": {},
   "outputs": [
    {
     "name": "stdout",
     "output_type": "stream",
     "text": [
      "[1, 2, 4]\n"
     ]
    }
   ],
   "source": [
    "# remove() 대신 for문 사용\n",
    "a = [1,2,3,4,5,5,5]\n",
    "remove_set = {3,5}\n",
    "\n",
    "result = []\n",
    "for i in a:\n",
    "    if i not in remove_set:\n",
    "        result.append(i)\n",
    "\n",
    "print(result)"
   ]
  },
  {
   "cell_type": "code",
   "execution_count": 10,
   "id": "e176d642",
   "metadata": {},
   "outputs": [
    {
     "name": "stdout",
     "output_type": "stream",
     "text": [
      "[1, 2, 4]\n"
     ]
    }
   ],
   "source": [
    "# remove() 대신 List Comprehension 사용\n",
    "\n",
    "a = [1,2,3,4,5,5,5]\n",
    "remove_set = {3,5}\n",
    "\n",
    "# remove_set에 포함되지 않은 값만 저장\n",
    "result = [i for i in a if i not in remove_set]\n",
    "print(result)"
   ]
  },
  {
   "cell_type": "markdown",
   "id": "f8b50894",
   "metadata": {},
   "source": [
    "### Global 변수\n"
   ]
  },
  {
   "cell_type": "code",
   "execution_count": 13,
   "id": "15cf4554",
   "metadata": {},
   "outputs": [
    {
     "name": "stdout",
     "output_type": "stream",
     "text": [
      "1\n",
      "2\n",
      "3\n",
      "4\n",
      "5\n",
      "6\n",
      "7\n",
      "8\n",
      "9\n",
      "10\n",
      "10\n"
     ]
    }
   ],
   "source": [
    "a = 0 \n",
    "\n",
    "def func():\n",
    "    global a # 함수 밖 a 참조 가능\n",
    "    a +=1\n",
    "#     print(a)\n",
    "    \n",
    "for i in range(10):\n",
    "    func()\n",
    "    \n",
    "print(a)"
   ]
  },
  {
   "cell_type": "markdown",
   "id": "aa3bf3e9",
   "metadata": {},
   "source": [
    "### Lambda 표현식"
   ]
  },
  {
   "cell_type": "code",
   "execution_count": 15,
   "id": "e124c021",
   "metadata": {},
   "outputs": [
    {
     "name": "stdout",
     "output_type": "stream",
     "text": [
      "10\n"
     ]
    }
   ],
   "source": [
    "# 일반적인 add() 메소드\n",
    "def add(a, b):\n",
    "    return a+b\n",
    "\n",
    "print(add(3,7))"
   ]
  },
  {
   "cell_type": "code",
   "execution_count": 17,
   "id": "6d2f9823",
   "metadata": {},
   "outputs": [
    {
     "name": "stdout",
     "output_type": "stream",
     "text": [
      "10\n"
     ]
    }
   ],
   "source": [
    "# Lambda 표현식\n",
    "print((lambda a,b: a+b)(3, 7))"
   ]
  },
  {
   "cell_type": "markdown",
   "id": "b7a85010",
   "metadata": {},
   "source": [
    "### 입출력\n",
    "\n",
    "- 입력의 개수가 많은 경우, input() 대신 sys.stdin.realine() 사용"
   ]
  },
  {
   "cell_type": "code",
   "execution_count": 18,
   "id": "be68e8da",
   "metadata": {},
   "outputs": [
    {
     "name": "stdout",
     "output_type": "stream",
     "text": [
      "5\n",
      "65 90 75 34 99\n",
      "[99, 90, 75, 65, 34]\n"
     ]
    }
   ],
   "source": [
    "## 입력을 위한 전형적인 코드\n",
    "\n",
    "# 데이터의 개수 입력\n",
    "n = int(input())\n",
    "\n",
    "# 각 데이터를 공백으로 구분하여 입력\n",
    "# input()으로 받은 문자열을 공백으로 나눈 리스트로 바꾼 뒤, \n",
    "# map()을 이용하여 리스트의 모든 원소에 int() 적용\n",
    "data = list(map(int, input().split()))\n",
    "\n",
    "data.sort(reverse=True)\n",
    "print(data)"
   ]
  },
  {
   "cell_type": "code",
   "execution_count": 19,
   "id": "e7073353",
   "metadata": {},
   "outputs": [
    {
     "name": "stdout",
     "output_type": "stream",
     "text": [
      "3 5 7\n",
      "3 5 7\n"
     ]
    }
   ],
   "source": [
    "## 공백을 기준으로 적은수의 데이터 입력\n",
    "\n",
    "# n, m, k를 공백으로 구분하여 입력\n",
    "n, m, k = map(int, input().split())\n",
    "print(n,m,k)"
   ]
  },
  {
   "cell_type": "code",
   "execution_count": 26,
   "id": "b4bcbdec",
   "metadata": {},
   "outputs": [
    {
     "name": "stdout",
     "output_type": "stream",
     "text": [
      "\n"
     ]
    }
   ],
   "source": [
    "# Jupyter stdin 지원안하는 것으로 보임\n",
    "import sys\n",
    "\n",
    "# 문자열 입력받기\n",
    "# rstrip(): readline()으로 입력 후 엔터 시 \\n 이 삽입되므로 이를 제거\n",
    "data = sys.stdin.readline().rstrip()\n",
    "print(data)"
   ]
  },
  {
   "cell_type": "code",
   "execution_count": 29,
   "id": "fe16a70f",
   "metadata": {},
   "outputs": [
    {
     "name": "stdout",
     "output_type": "stream",
     "text": [
      "정답은 7입니다.\n",
      "정답은  7 입니다.\n",
      "정답은 7입니다\n"
     ]
    }
   ],
   "source": [
    "# 출력 시 자료형 주의\n",
    "answer = 7\n",
    "\n",
    "# print(\"정답은 \"+ answer + \"입니다.\") # Error\n",
    "print(\"정답은 \"+ str(answer) + \"입니다.\") # +\n",
    "print(\"정답은 \", str(answer), \"입니다.\") # comma: 공백 포함\n",
    "print(f\"정답은 {answer}입니다\") # f-string"
   ]
  },
  {
   "cell_type": "markdown",
   "id": "011bd664",
   "metadata": {},
   "source": [
    "### 주요 라이브러리의 문법과 유의점\n",
    "\n",
    "- 파이썬 표준 라이브러리 6가지\n",
    "    - 내장함수: print(), input() 등 기본 입출력, sorted(), ...\n",
    "    - Itertools: 반복되는 데이터 처리 기능 제공, 순열(permutations), 조합(combinations)\n",
    "    - Heapq: Heap 기능 제공, 우선순위 큐 구현 시 사용\n",
    "    - Bisect: Binary Search 기능 제공\n",
    "    - Collections: deque, Counter 등의 자료구소 포함\n",
    "    - math: factorial, sqrt, gcd, 삼각함수 등 필수적인 수학 기능 제공"
   ]
  },
  {
   "cell_type": "markdown",
   "id": "ca2f73df",
   "metadata": {},
   "source": [
    "#### 내장함수"
   ]
  },
  {
   "cell_type": "code",
   "execution_count": 30,
   "id": "b8bb5e38",
   "metadata": {},
   "outputs": [
    {
     "name": "stdout",
     "output_type": "stream",
     "text": [
      "56\n"
     ]
    }
   ],
   "source": [
    "# eval(): 수학 수식이 문자열 형식으로 들어오면, 수식을 계산한 결과를 반환\n",
    "\n",
    "result = eval(\"(3+5)*7\")\n",
    "print(result)"
   ]
  },
  {
   "cell_type": "code",
   "execution_count": 32,
   "id": "2e5cdf7f",
   "metadata": {},
   "outputs": [
    {
     "name": "stdout",
     "output_type": "stream",
     "text": [
      "[('이순신', 75), ('아무개', 50), ('홍길동', 35)]\n"
     ]
    }
   ],
   "source": [
    "# sorted(): key 기준으로 정렬 가능\n",
    "\n",
    "# 두번째 원소(x[1]) 기준으로 정렬\n",
    "result = sorted([('홍길동', 35),('이순신', 75),('아무개', 50)], key = lambda x: x[1], reverse=True)\n",
    "print(result)"
   ]
  },
  {
   "cell_type": "code",
   "execution_count": 33,
   "id": "ddba8a14",
   "metadata": {},
   "outputs": [
    {
     "name": "stdout",
     "output_type": "stream",
     "text": [
      "[1, 4, 5, 8, 9]\n"
     ]
    }
   ],
   "source": [
    "# sort(): list와 같은 iterable 객체는 sort() 내장\n",
    "\n",
    "data = [9, 1, 8, 5, 4]\n",
    "data.sort()\n",
    "print(data)"
   ]
  },
  {
   "cell_type": "markdown",
   "id": "acc8aa8b",
   "metadata": {},
   "source": [
    "#### itertools"
   ]
  },
  {
   "cell_type": "code",
   "execution_count": 34,
   "id": "c7208bc4",
   "metadata": {},
   "outputs": [
    {
     "name": "stdout",
     "output_type": "stream",
     "text": [
      "[('A', 'B', 'C'), ('A', 'C', 'B'), ('B', 'A', 'C'), ('B', 'C', 'A'), ('C', 'A', 'B'), ('C', 'B', 'A')]\n"
     ]
    }
   ],
   "source": [
    "# 순열(permutataions): 리스트 등 iterable 객체에서 r개의 데이터를 뽑아 일렬로 나열하는 모든 경우를 계산\n",
    "\n",
    "from itertools import permutations\n",
    "\n",
    "data = ['A','B','C']\n",
    "result = list(permutations(data,3))\n",
    "print(result)"
   ]
  },
  {
   "cell_type": "code",
   "execution_count": 36,
   "id": "ba942909",
   "metadata": {},
   "outputs": [
    {
     "name": "stdout",
     "output_type": "stream",
     "text": [
      "[('A', 'B'), ('A', 'C'), ('B', 'C')]\n"
     ]
    }
   ],
   "source": [
    "# 조합(Combinations): 리스트 등 iterable 객체에서 r개의 데이터를 뽑아 \"순서를 고려하지 않고\" 나열하는 모든 경우를 계산\n",
    "\n",
    "from itertools import combinations\n",
    "\n",
    "data = ['A','B','C']\n",
    "result = list(combinations(data,2)) # 2개를 뽑는 모든 조합\n",
    "print(result)"
   ]
  },
  {
   "cell_type": "code",
   "execution_count": 38,
   "id": "2c02eba7",
   "metadata": {},
   "outputs": [
    {
     "name": "stdout",
     "output_type": "stream",
     "text": [
      "[('A', 'A'), ('A', 'B'), ('A', 'C'), ('B', 'A'), ('B', 'B'), ('B', 'C'), ('C', 'A'), ('C', 'B'), ('C', 'C')]\n"
     ]
    }
   ],
   "source": [
    "# Product: 순열(Permutations)과 같으나, 원소를 중복하여 뽑는다(repeat 속성)\n",
    "\n",
    "from itertools import product\n",
    "\n",
    "data = ['A','B','C']\n",
    "result = list(product(data, repeat=2)) # 2개를 뽑는 모든 조합\n",
    "print(result)"
   ]
  },
  {
   "cell_type": "code",
   "execution_count": 39,
   "id": "8de2a486",
   "metadata": {},
   "outputs": [
    {
     "name": "stdout",
     "output_type": "stream",
     "text": [
      "[('A', 'A'), ('A', 'B'), ('A', 'C'), ('B', 'B'), ('B', 'C'), ('C', 'C')]\n"
     ]
    }
   ],
   "source": [
    "# Combinations_with_replacement: 조합(Combinations)과 같으나, 원소를 중복하여 뽑는다\n",
    "\n",
    "from itertools import combinations_with_replacement\n",
    "\n",
    "data = ['A','B','C']\n",
    "result = list(combinations_with_replacement(data,2)) # 2개를 뽑는 모든 조합\n",
    "print(result)"
   ]
  },
  {
   "cell_type": "markdown",
   "id": "0f58ec84",
   "metadata": {},
   "source": [
    "#### heapq\n",
    "\n",
    "- 우선순위 큐 기능 구현 시 사용\n",
    "- 보통 PriorityQueue 라이브러리에 비해 heapq가 더 빠르므로 사용 권장\n",
    "- 파이썬의 heap: Min Heap으로 구성\n",
    "    - 원소 추가(heappush())/제거(heappop()) 시 Time Complexity: O(NlogN)로 오름차순 정렬됨\n",
    "    - Min Heap의 최상단 원소는 항상 '가장 작은' 원소\n",
    "    - Max Heap을 제공하지 않으므로 Max Heap 구현 시 원소의 부호를 임시로 변경하는 방식 사용"
   ]
  },
  {
   "cell_type": "code",
   "execution_count": 40,
   "id": "70442b32",
   "metadata": {},
   "outputs": [
    {
     "name": "stdout",
     "output_type": "stream",
     "text": [
      "[0, 1, 2, 3, 4, 5, 6, 7, 8, 9]\n"
     ]
    }
   ],
   "source": [
    "# heapq 사용법\n",
    "\n",
    "import heapq\n",
    "\n",
    "def heapsort(iterable):\n",
    "    h = []\n",
    "    result = []\n",
    "    \n",
    "    # 모든 원소를 차례대로 힙(h)에 삽입\n",
    "    for value in iterable:\n",
    "        heapq.heappush(h, value)\n",
    "        \n",
    "    # 힙에 삽입된 모든 원소를 차례대로 꺼내어 (result에) 담기\n",
    "    for i in range(len(h)):\n",
    "        result.append(heapq.heappop(h))\n",
    "    return result\n",
    "\n",
    "result = heapsort([1,3,5,7,9,2,4,6,8,0])\n",
    "print(result) # 가장 작은 원소부터 출력"
   ]
  },
  {
   "cell_type": "code",
   "execution_count": 41,
   "id": "a81532bd",
   "metadata": {},
   "outputs": [
    {
     "name": "stdout",
     "output_type": "stream",
     "text": [
      "[9, 8, 7, 6, 5, 4, 3, 2, 1, 0]\n"
     ]
    }
   ],
   "source": [
    "# Max Heap 구현\n",
    "\n",
    "import heapq\n",
    "\n",
    "def heapsort(iterable):\n",
    "    h = []\n",
    "    result = []\n",
    "    \n",
    "    # 모든 원소를 차례대로 힙(h)에 삽입하되, 부호를 변경\n",
    "    for value in iterable:\n",
    "        heapq.heappush(h, -value)\n",
    "        \n",
    "    # 힙에 삽입된 모든 원소를 차례대로 꺼내어 (result에) 담되, 다시 부호를 되돌려줌\n",
    "    for i in range(len(h)):\n",
    "        result.append(-heapq.heappop(h))\n",
    "    return result\n",
    "\n",
    "result = heapsort([1,3,5,7,9,2,4,6,8,0])\n",
    "print(result) # 가장 작은 원소인 -9부터 -(-9)로 출력"
   ]
  },
  {
   "cell_type": "markdown",
   "id": "798451d7",
   "metadata": {},
   "source": [
    "#### bisect\n",
    "\n",
    "- Binary Search, 정렬된 배열에서 특정 원소 찾을때 사용\n",
    "- bisect_left(),bisect_left()의 Time complexity: O(logN) \n",
    "    - bisect_left(a,x): 정렬된 순서를 유지하도록 list a에 데이터 x를 삽입할 가장 왼쪽 인덱스를 찾는 메소드\n",
    "    - bisect_right(a,x): 정렬된 순서를 유지하도록 list a에 데이터 x를 삽입할 가장 오른쪽 인덱스를 찾는 메소드\n",
    "    - 정렬된 리스트에서 값이 특정 범위에 속하는 원소의 개수를 구할때도 사용"
   ]
  },
  {
   "cell_type": "code",
   "execution_count": 43,
   "id": "0f427abd",
   "metadata": {},
   "outputs": [
    {
     "name": "stdout",
     "output_type": "stream",
     "text": [
      "2\n",
      "4\n"
     ]
    }
   ],
   "source": [
    "# bisect 예시\n",
    "\n",
    "from bisect import bisect_left,bisect_right\n",
    "\n",
    "a = [1,2,4,4,8]\n",
    "x = 4\n",
    "print(bisect_left(a, x))\n",
    "print(bisect_right(a, x))"
   ]
  },
  {
   "cell_type": "code",
   "execution_count": 47,
   "id": "67f80f83",
   "metadata": {},
   "outputs": [
    {
     "name": "stdout",
     "output_type": "stream",
     "text": [
      "2\n",
      "6\n"
     ]
    }
   ],
   "source": [
    "# 정렬된 리스트에서 값이 특정 범위에 속하는 원소의 개수를 구할때\n",
    "\n",
    "from bisect import bisect_left,bisect_right\n",
    "\n",
    "def count_by_range(a, left_value, right_value):\n",
    "    right_index = bisect_right(a, right_value)\n",
    "    left_index = bisect_left(a, left_value)\n",
    "    return right_index - left_index\n",
    "\n",
    "a = [1,2,3,3,3,3,4,4,8,9]\n",
    "\n",
    "# 값이 4인 데이터의 개수 출력\n",
    "print(count_by_range(a, 4, 4)) # (right_index = 8)- (left_index = 6) = 2\n",
    "\n",
    "# 값이 [-1, 3] 범위에 있는 데이터의 개수 출력\n",
    "print(count_by_range(a, -1, 3)) # (right_index = 6) - (left_index = 0) = 6"
   ]
  },
  {
   "cell_type": "markdown",
   "id": "e535311c",
   "metadata": {},
   "source": [
    "#### Collections\n",
    "\n",
    "- deque: 스택 or 큐 기능\n",
    "- List vs deque\n",
    "    - List의 데이터 추가(append()) / 삭제(pop()) 시 '가장 뒤쪽 원소' 기준으로 수행하므로 앞쪽에 있는 원소 처리 시 시간이 많이 걸림\n",
    "    - Time complexity 비교\n",
    "        - 가장 앞쪽에 있는 원소 추가/제거: list - O(N) vs deque - O(1)\n",
    "        - 가장 뒤쪽에 있는 원소 추가/제거: list - O(1) vs deque - O(1)\n",
    "    - deque는 리스트의 인덱싱, 슬라이싱 기능은 사용 불가, 데이터 시작이나 끝 부분에 데이터 추가/삭제 시 유용\n",
    "        - 가장 앞쪽에 원소(x) 추가 / 제거: appendleft(x) / popleft()\n",
    "        - 가장 뒤쪽에 원소(x) 추가 / 제거: append(x) / pop()\n",
    "        - FIFO(First-In First-Out)이 되려면, 원소 추가 시 append(), 제거 시 popleft()"
   ]
  },
  {
   "cell_type": "code",
   "execution_count": 48,
   "id": "2a27e7e1",
   "metadata": {},
   "outputs": [
    {
     "name": "stdout",
     "output_type": "stream",
     "text": [
      "deque([1, 2, 3, 4, 5])\n",
      "[1, 2, 3, 4, 5]\n"
     ]
    }
   ],
   "source": [
    "# deque 예시\n",
    "\n",
    "from collections import deque\n",
    "\n",
    "data = deque([2,3,4])\n",
    "data.appendleft(1)\n",
    "data.append(5)\n",
    "\n",
    "print(data)\n",
    "print(list(data))"
   ]
  },
  {
   "cell_type": "code",
   "execution_count": 50,
   "id": "a7fb0574",
   "metadata": {},
   "outputs": [
    {
     "name": "stdout",
     "output_type": "stream",
     "text": [
      "3\n",
      "1\n",
      "{'red': 2, 'blue': 3, 'green': 1}\n"
     ]
    }
   ],
   "source": [
    "# Counter: 횟수 세기\n",
    "\n",
    "from collections import Counter\n",
    "\n",
    "counter = Counter(['red','blue','red','green','blue','blue'])\n",
    "\n",
    "print(counter['blue'])\n",
    "print(counter['green'])\n",
    "print(dict(counter)) # dict 형식으로 카운트"
   ]
  },
  {
   "cell_type": "code",
   "execution_count": null,
   "id": "dcfe0e34",
   "metadata": {},
   "outputs": [],
   "source": []
  }
 ],
 "metadata": {
  "kernelspec": {
   "display_name": "Python 3 (ipykernel)",
   "language": "python",
   "name": "python3"
  },
  "language_info": {
   "codemirror_mode": {
    "name": "ipython",
    "version": 3
   },
   "file_extension": ".py",
   "mimetype": "text/x-python",
   "name": "python",
   "nbconvert_exporter": "python",
   "pygments_lexer": "ipython3",
   "version": "3.9.7"
  }
 },
 "nbformat": 4,
 "nbformat_minor": 5
}
