{
 "cells": [
  {
   "cell_type": "markdown",
   "id": "b09128f0",
   "metadata": {},
   "source": [
    "### 이론"
   ]
  },
  {
   "cell_type": "code",
   "execution_count": 1,
   "id": "2a34567e",
   "metadata": {},
   "outputs": [
    {
     "name": "stdout",
     "output_type": "stream",
     "text": [
      "[5, 2, 3, 1]\n",
      "[1, 3, 2, 5]\n"
     ]
    }
   ],
   "source": [
    "# 5-1. stack 예제\n",
    "\n",
    "stack = []\n",
    "\n",
    "stack.append(5)\n",
    "stack.append(2)\n",
    "stack.append(3)\n",
    "stack.append(7)\n",
    "stack.pop()\n",
    "stack.append(1)\n",
    "stack.append(4)\n",
    "stack.pop()\n",
    "\n",
    "print(stack)\n",
    "print(stack[::-1])"
   ]
  },
  {
   "cell_type": "code",
   "execution_count": 2,
   "id": "f2ed70b0",
   "metadata": {},
   "outputs": [
    {
     "name": "stdout",
     "output_type": "stream",
     "text": [
      "deque([3, 7, 1, 4])\n",
      "deque([4, 1, 7, 3])\n"
     ]
    }
   ],
   "source": [
    "# 5-2. queue 예제\n",
    "\n",
    "from collections import deque\n",
    "\n",
    "queue = deque()\n",
    "\n",
    "queue.append(5)\n",
    "queue.append(2)\n",
    "queue.append(3)\n",
    "queue.append(7)\n",
    "queue.popleft()\n",
    "queue.append(1)\n",
    "queue.append(4)\n",
    "queue.popleft()\n",
    "\n",
    "print(queue)\n",
    "queue.reverse()\n",
    "print(queue)"
   ]
  },
  {
   "cell_type": "code",
   "execution_count": 3,
   "id": "2ecf85f3",
   "metadata": {},
   "outputs": [
    {
     "name": "stdout",
     "output_type": "stream",
     "text": [
      "반복적으로 구현: 120\n",
      "재귀함수로 구현: 120\n"
     ]
    }
   ],
   "source": [
    "# 5-5. 재귀함수 - factorial\n",
    "\n",
    "# 반복문으로 구현\n",
    "def factorial_iterative(n):\n",
    "    result = 1\n",
    "    # 1부터 n까지의 수를 차례대로 곱하기\n",
    "    for i in range(1, n+1):\n",
    "        result*=i\n",
    "    return result\n",
    "\n",
    "# 재귀함수로 구현\n",
    "def factorial_recursive(n):\n",
    "    if n<=1:\n",
    "        return 1\n",
    "    \n",
    "    return n * factorial_recursive(n-1)\n",
    "\n",
    "print(\"반복적으로 구현:\", factorial_iterative(5))\n",
    "print(\"재귀함수로 구현:\", factorial_recursive(5))"
   ]
  },
  {
   "cell_type": "code",
   "execution_count": 6,
   "id": "0582e943",
   "metadata": {},
   "outputs": [
    {
     "name": "stdout",
     "output_type": "stream",
     "text": [
      "[[0, 7, 5], [7, 0, 99999999], [5, 99999999, 0]]\n"
     ]
    }
   ],
   "source": [
    "# 5-6. 인접 행렬 방식 예제\n",
    "\n",
    "INF = 99999999\n",
    "\n",
    "# 2차원 리스트를 이용해 인접 행렬 표현\n",
    "graph = [[0, 7, 5],\n",
    "         [7, 0, INF],\n",
    "         [5, INF, 0]]\n",
    "\n",
    "print(graph)"
   ]
  },
  {
   "cell_type": "code",
   "execution_count": 5,
   "id": "f405636b",
   "metadata": {},
   "outputs": [
    {
     "name": "stdout",
     "output_type": "stream",
     "text": [
      "[[(1, 7), (2, 5)], [(0, 7)], [(0, 5)]]\n"
     ]
    }
   ],
   "source": [
    "# 5-7. 인접 리스트 방식 예제\n",
    "\n",
    "# 행이 3개인 2차원 리스트로 인접 리스트 표현\n",
    "graph = [[] for _ in range(3)]\n",
    "\n",
    "# 노드 0에 연결된 노드 정보 저장(노드, 거리)\n",
    "graph[0].append((1, 7))\n",
    "graph[0].append((2, 5))\n",
    "\n",
    "# 노드 1에 연결된 노드 정보 저장(노드, 거리)\n",
    "graph[1].append((0, 7))\n",
    "\n",
    "# 노드 2에 연결된 노드 정보 저장(노드, 거리)\n",
    "graph[2].append((0, 5))\n",
    "\n",
    "print(graph)"
   ]
  },
  {
   "cell_type": "code",
   "execution_count": 7,
   "id": "12f22d77",
   "metadata": {},
   "outputs": [
    {
     "name": "stdout",
     "output_type": "stream",
     "text": [
      "1 2 7 6 8 3 4 5 "
     ]
    }
   ],
   "source": [
    "# 5-8. DFS 예제\n",
    "\n",
    "# DFS 메소드 정의\n",
    "def dfs(graph, v, visited):\n",
    "    # 현재 노드를 방문 처리\n",
    "    visited[v] = True\n",
    "    print(v, end=' ')\n",
    "    # 현재 노드와 연결된 다른 노드를 재귀적으로 방문\n",
    "    for i in graph[v]:\n",
    "        if not visited[i]:\n",
    "            dfs(graph, i, visited)\n",
    "            \n",
    "# 각 노드가 연결된 정보를 2차원 리스트로 표현\n",
    "graph =[[],        # 0번 인덱스 empty\n",
    "        [2, 3, 8], # 1번 인덱스에 인접한 노드 \n",
    "        [1, 7],    # 2번 인덱스에 인접한 노드\n",
    "        [1, 4, 5], # ...\n",
    "        [3, 5],\n",
    "        [3, 4],\n",
    "        [7],\n",
    "        [2, 6, 8],\n",
    "        [1,7]]\n",
    "\n",
    "# 각 노드가 방문한 정보를 1차원 리스트로 표현(0번 인덱스까지 초기화)\n",
    "visited = [False] * 9\n",
    "\n",
    "# DFS 호출\n",
    "dfs(graph, 1, visited)"
   ]
  },
  {
   "cell_type": "code",
   "execution_count": 8,
   "id": "f7b2e6c7",
   "metadata": {},
   "outputs": [
    {
     "name": "stdout",
     "output_type": "stream",
     "text": [
      "1 2 3 8 7 4 5 6 "
     ]
    }
   ],
   "source": [
    "# 5-9. BFS 예제\n",
    "from collections import deque\n",
    "\n",
    "# BFS 메소드 정의\n",
    "def bfs(graph, start, visited):\n",
    "    # 큐 구현을 위해 deque 사용\n",
    "    queue = deque([start])\n",
    "    # 현재 노드를 방문 처리\n",
    "    visited[start] = True\n",
    "    # 큐가 비어 있을때까지 반복\n",
    "    while queue:\n",
    "        # 큐에서 원소를 하나씩 꺼내어 출력\n",
    "        v = queue.popleft()\n",
    "        print(v, end=' ')    \n",
    "        # 해당 원소와 연결된 방문하지 않은 원소들을 모두 큐에 삽입\n",
    "        for i in graph[v]:\n",
    "            if not visited[i]:\n",
    "                queue.append(i)\n",
    "                visited[i] = True\n",
    "                \n",
    "# 각 노드가 연결된 정보를 2차원 리스트로 표현\n",
    "graph =[[],        # 0번 인덱스 empty\n",
    "        [2, 3, 8], # 1번 인덱스에 인접한 노드 \n",
    "        [1, 7],    # 2번 인덱스에 인접한 노드\n",
    "        [1, 4, 5], # ...\n",
    "        [3, 5],\n",
    "        [3, 4],\n",
    "        [7],\n",
    "        [2, 6, 8],\n",
    "        [1,7]]\n",
    "\n",
    "# 각 노드가 방문한 정보를 1차원 리스트로 표현(0번 인덱스까지 초기화)\n",
    "visited = [False] * 9\n",
    "\n",
    "# BFS 호출\n",
    "bfs(graph, 1, visited)"
   ]
  },
  {
   "cell_type": "markdown",
   "id": "7594cdc7",
   "metadata": {},
   "source": [
    "### 실전 문제"
   ]
  },
  {
   "cell_type": "code",
   "execution_count": 14,
   "id": "4b21e3e2",
   "metadata": {},
   "outputs": [
    {
     "name": "stdout",
     "output_type": "stream",
     "text": [
      "4 5\n",
      "00110\n",
      "00011\n",
      "11111\n",
      "00000\n",
      "3\n"
     ]
    }
   ],
   "source": [
    "## 음료수 얼려먹기\n",
    "\n",
    "# n행 m열\n",
    "n, m = map(int, input().split())\n",
    "\n",
    "# 2차원 리스트로 맵 정보 입력받기\n",
    "graph = []\n",
    "for i in range(n):\n",
    "    graph.append(list(map(int, input())))\n",
    "    \n",
    "# DFS로 특정한 노드를 방문한 뒤에 연결된 모든 노드들도 방문\n",
    "def dfs(x, y):\n",
    "    # 주어진 행렬 범위를 벗어난 경우 \n",
    "    if x<=-1 or x>=n or y<=-1 or y>=m:\n",
    "        return False\n",
    "    # 현재 노드를 방문하지 않은 경우\n",
    "    if graph[x][y] == 0:\n",
    "        # 해당 노드를 방문 처리\n",
    "        graph[x][y] = 1\n",
    "        # 상, 하, 좌, 우 위치도 모두 재귀적으로 호출\n",
    "        dfs(x-1, y)\n",
    "        dfs(x+1, y)  \n",
    "        dfs(x, y-1)      \n",
    "        dfs(x, y+1)\n",
    "        return True\n",
    "    return False\n",
    "\n",
    "# 모든 노드에 대하여 음료수 채우기\n",
    "result = 0\n",
    "for i in range(n):\n",
    "    for j in range(m):\n",
    "        # 현재 위치에서 DFS 수행 (해당 노드가 처음 방문되었을때만 result 증가)\n",
    "        if dfs(i, j) == True:\n",
    "            result += 1\n",
    "            \n",
    "print(result)"
   ]
  },
  {
   "cell_type": "code",
   "execution_count": null,
   "id": "3e8e3c70",
   "metadata": {},
   "outputs": [],
   "source": [
    "## 미로 탈출\n",
    "from collections import deque\n",
    "\n",
    "# n행 m열\n",
    "n, m = map(int, input().split())\n",
    "\n",
    "# 2차원 리스트로 미로 정보 입력받기\n",
    "graph = []\n",
    "for i in range(n):\n",
    "    graph.append(list(map(int, input())))\n",
    "    \n",
    "# 상 하 좌 우\n",
    "dx = [1, -1, 0, 0]\n",
    "dy = [0, 0, -1, 1]\n",
    "\n",
    "# BFS 구현\n",
    "def bfs(x, y):\n",
    "    # 큐 구현\n",
    "    queue = deque()\n",
    "    queue.append((x,y))\n",
    "    # 큐가 비어 있을때까지 반복\n",
    "    while queue:\n",
    "        x, y = queue.popleft()\n",
    "        # 현재 위치에서 상하좌우로 위치 확인\n",
    "        for i in range(4):\n",
    "            nx = x + dx[i]\n",
    "            ny = y + dy[i]\n",
    "            # 미로 공간을 벗어난 경우 무시\n",
    "            if nx<=-1 or nx>=n or ny<=-1 or ny>=m:\n",
    "                continue\n",
    "            # 괴물이 있는 경우 무시\n",
    "            if graph[nx][ny] == 0:\n",
    "                continue\n",
    "            # 해당 노드가 처음 방문되었을때만 최단 거리 기록\n",
    "            if graph[nx][ny] == 1:\n",
    "                graph[nx][ny] = graph[x][y] + 1\n",
    "                queue.append((nx,ny))\n",
    "                \n",
    "    # 가장 오른쪽 아래까지의 최단 거리 반환\n",
    "    return graph[n-1][m-1]        \n",
    "            \n",
    "print(bfs(0,0))"
   ]
  }
 ],
 "metadata": {
  "kernelspec": {
   "display_name": "Python 3 (ipykernel)",
   "language": "python",
   "name": "python3"
  },
  "language_info": {
   "codemirror_mode": {
    "name": "ipython",
    "version": 3
   },
   "file_extension": ".py",
   "mimetype": "text/x-python",
   "name": "python",
   "nbconvert_exporter": "python",
   "pygments_lexer": "ipython3",
   "version": "3.9.7"
  }
 },
 "nbformat": 4,
 "nbformat_minor": 5
}
