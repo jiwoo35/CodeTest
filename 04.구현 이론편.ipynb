{
 "cells": [
  {
   "cell_type": "code",
   "execution_count": 9,
   "id": "e14c525e",
   "metadata": {},
   "outputs": [
    {
     "name": "stdout",
     "output_type": "stream",
     "text": [
      "5\n",
      "R R R U D D\n",
      "3 4\n"
     ]
    }
   ],
   "source": [
    "# 예제4-1. 상하좌우\n",
    "\n",
    "n = int(input())\n",
    "move = list(input().split())\n",
    "\n",
    "x = 1\n",
    "y = 1\n",
    "for i in range(len(move)):\n",
    "    if (move[i]=='R') and (y<n):\n",
    "        y+=1\n",
    "    elif (move[i]=='U') and (x<n and x>1):\n",
    "        x-=1\n",
    "    elif (move[i]=='D') and (x<n):\n",
    "        x+=1\n",
    "    elif (move[i]=='L') and (y<n and x>1):\n",
    "        y-=1\n",
    "        \n",
    "print(x,y)"
   ]
  },
  {
   "cell_type": "code",
   "execution_count": 12,
   "id": "fdaf4695",
   "metadata": {},
   "outputs": [
    {
     "name": "stdout",
     "output_type": "stream",
     "text": [
      "5\n",
      "R R R U D D\n",
      "3 4\n"
     ]
    }
   ],
   "source": [
    "# 예제4-1. 상하좌우 - answer\n",
    "\n",
    "n = int(input())\n",
    "plans = input().split()\n",
    "x, y = 1,1\n",
    "\n",
    "# L, R, U, D에 따른 이동 방향\n",
    "dx = [0,0,-1,1]\n",
    "dy = [-1,1,0,0]\n",
    "move_types = ['L', 'R', 'U', 'D']\n",
    "\n",
    "# 이동계획을 하나씩 확인\n",
    "for plan in plans:\n",
    "    # 이동후 좌표 구하기\n",
    "    for i in range(len(move_types)):\n",
    "        if plan == move_types[i]:\n",
    "            nx = x + dx[i]\n",
    "            ny = y + dy[i]\n",
    "    # 공간을 벗어나는 경우 무시\n",
    "    if nx<1 or ny<1 or nx>n or ny>n:\n",
    "        continue\n",
    "    # 이동 수행\n",
    "    x, y = nx, ny\n",
    "    \n",
    "print(x, y)"
   ]
  },
  {
   "cell_type": "code",
   "execution_count": 17,
   "id": "4b571079",
   "metadata": {},
   "outputs": [
    {
     "name": "stdout",
     "output_type": "stream",
     "text": [
      "5\n",
      "11475\n"
     ]
    }
   ],
   "source": [
    "# 예제4-2. 시각\n",
    "\n",
    "n = int(input())\n",
    "\n",
    "cnt = 0 \n",
    "for h in range(n+1): # N시까지\n",
    "    for m in range(60):\n",
    "        for s in range(60):\n",
    "            if '3' in str(s) + str(m) + str(h): # hhmmss\n",
    "                cnt += 1\n",
    "\n",
    "print(cnt)"
   ]
  },
  {
   "cell_type": "code",
   "execution_count": 19,
   "id": "507766e1",
   "metadata": {},
   "outputs": [
    {
     "name": "stdout",
     "output_type": "stream",
     "text": [
      "a1\n",
      "2\n"
     ]
    }
   ],
   "source": [
    "# 2. 왕실의 나이트\n",
    "loc = input()\n",
    "col = int(ord(loc[0])) - int(ord('a')) + 1\n",
    "row = int(loc[1])\n",
    "\n",
    "# 나이트가 이동할 수 있는 8가지 방향 정의\n",
    "steps = [(-2,-1),(-2,1), (-1,-2),(-1,2), (1,2),(1,-2), (2,1),(2,-1)]\n",
    "\n",
    "cnt=0\n",
    "# 8가지 방향에 대해 각 위치로 이동 가능한지 확인\n",
    "for step in steps:\n",
    "    # 이동하고자 하는 위치 확인\n",
    "    next_row = row + step[0]\n",
    "    next_col = col + step[1]\n",
    "    # 해당 위치로 이동가능하면, 카운팅 추가\n",
    "    if next_row>=1 and next_row<=8 and next_col>=1 and next_col<=8:\n",
    "        cnt+=1\n",
    "        \n",
    "print(cnt)"
   ]
  },
  {
   "cell_type": "code",
   "execution_count": 23,
   "id": "ea89561f",
   "metadata": {},
   "outputs": [
    {
     "name": "stdout",
     "output_type": "stream",
     "text": [
      "4 4\n",
      "1 1 0\n",
      "1 1 1 1\n",
      "1 0 0 1\n",
      "1 1 0 1\n",
      "1 1 1 1\n",
      "3\n"
     ]
    }
   ],
   "source": [
    "# 3. 게임 개발 - answer\n",
    "n,m = map(int,input().split()) # 세로(row), 가로 크기(col)\n",
    "x,y,direction = map(int,input().split()) # 캐릭터 서 있는 좌표, 바라보는 방향\n",
    "\n",
    "# 방문한 위치를 저장하기 위한 맵 0으로 초기화\n",
    "d = [[0]*m for _ in range(n)]\n",
    "d[x][y] = 1 # 방문한 위치는 1로\n",
    "\n",
    "# 육지(0)/바다(1)전체 맵 정보 입력받기\n",
    "array=[]\n",
    "for i in range(n): # row마다 입력\n",
    "    array.append(list(map(int, input().split())))\n",
    "\n",
    "# N,E,S,W\n",
    "dx = [1,0,-1,0] \n",
    "dy = [0,1,0,-1]\n",
    "                 \n",
    "# 왼쪽으로 회전\n",
    "def turn_left():\n",
    "    global direction\n",
    "    direction -= 1\n",
    "    if direction==-1:\n",
    "        direction = 3 # 서(왼)쪽\n",
    "\n",
    "# 시뮬레이션\n",
    "cnt = 1 # 방문한 칸의 수\n",
    "turn_time = 0 # 이동 불가능한 방향수\n",
    "    \n",
    "while True:\n",
    "    # 왼쪽으로 회전\n",
    "    turn_left()\n",
    "    nx = x + dx[direction]\n",
    "    ny = y + dy[direction]\n",
    "    \n",
    "    # 회전한 후 가보지 않은 칸이 존재하는 경우 이동\n",
    "    if d[nx][ny]==0 and array[nx][ny]==0:\n",
    "        d[nx][ny]=1\n",
    "        x = nx\n",
    "        y = ny\n",
    "        cnt+=1\n",
    "        turn_time=0\n",
    "        continue\n",
    "    \n",
    "    # 회전한 후 가보지 않은 칸이 없거나, 바다인 경우\n",
    "    else:\n",
    "        turn_time+=1\n",
    "        \n",
    "    # 네 방향 모두 갈 수 없는 경우\n",
    "    if turn_time==4:\n",
    "        nx = x - dx[direction]\n",
    "        ny = y - dy[direction]\n",
    "        # 뒤로 갈 수 있다면 이동\n",
    "        if array[nx][ny]==0:\n",
    "            x = nx\n",
    "            y = ny\n",
    "        # 뒤가 바다로 막힌 경우\n",
    "        else:\n",
    "            break\n",
    "        turn_time=0\n",
    "        \n",
    "print(cnt)"
   ]
  },
  {
   "cell_type": "code",
   "execution_count": null,
   "id": "6d9ea24e",
   "metadata": {},
   "outputs": [],
   "source": []
  }
 ],
 "metadata": {
  "kernelspec": {
   "display_name": "Python 3 (ipykernel)",
   "language": "python",
   "name": "python3"
  },
  "language_info": {
   "codemirror_mode": {
    "name": "ipython",
    "version": 3
   },
   "file_extension": ".py",
   "mimetype": "text/x-python",
   "name": "python",
   "nbconvert_exporter": "python",
   "pygments_lexer": "ipython3",
   "version": "3.9.12"
  }
 },
 "nbformat": 4,
 "nbformat_minor": 5
}
