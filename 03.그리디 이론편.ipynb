{
 "cells": [
  {
   "cell_type": "code",
   "execution_count": 1,
   "id": "bf9b50ed",
   "metadata": {},
   "outputs": [
    {
     "name": "stdout",
     "output_type": "stream",
     "text": [
      "5 8 3\n",
      "2 4 5 4 6\n",
      "46\n"
     ]
    }
   ],
   "source": [
    "# 2.큰 수의 법칙\n",
    "\n",
    "n,m,k = map(int, input().split())\n",
    "data = list(map(int, input().split()))\n",
    "\n",
    "data.sort()\n",
    "first = data[n-1]\n",
    "second = data[n-2]\n",
    "\n",
    "result = 0 \n",
    "\n",
    "while True:\n",
    "    for i in range(k):\n",
    "        result+= first\n",
    "        if m==0:\n",
    "            break\n",
    "        m-=1\n",
    "        \n",
    "    result+=second\n",
    "    m-=1\n",
    "    \n",
    "    if m==0:\n",
    "        break\n",
    "        \n",
    "print(result)"
   ]
  },
  {
   "cell_type": "code",
   "execution_count": 3,
   "id": "87f4904b",
   "metadata": {},
   "outputs": [
    {
     "name": "stdout",
     "output_type": "stream",
     "text": [
      "5 8 3\n",
      "2 4 5 4 6\n",
      "46\n"
     ]
    }
   ],
   "source": [
    "# 큰 수의 법칙 - 더 효율적인 답안\n",
    "# Idea: M=8, K=3 일때, 6 6 6 5 6 6 6 5 \n",
    "# int(M//(k+1)): 수열이 반복되는 횟수\n",
    "# int(M//(k+1))*k: 가장 큰수가 등장하는 횟수\n",
    "# int(M//(k+1))*k + M%(k+1): 나누어떨어지지 않는 경우 추가\n",
    "\n",
    "n,m,k = map(int, input().split())\n",
    "data = list(map(int, input().split()))\n",
    "\n",
    "data.sort()\n",
    "first = data[n-1]\n",
    "second = data[n-2]\n",
    "\n",
    "# 가장 큰수가 등장하는 횟수\n",
    "count = int(m//(k+1))*k\n",
    "count+=m%(k+1)\n",
    "\n",
    "result=0\n",
    "result+=(count)*first\n",
    "result+=(m-count)*second\n",
    "\n",
    "print(result)"
   ]
  },
  {
   "cell_type": "code",
   "execution_count": 16,
   "id": "3fbfe6db",
   "metadata": {},
   "outputs": [
    {
     "name": "stdout",
     "output_type": "stream",
     "text": [
      "2 4\n",
      "7 3 1 8\n",
      "3 3 3 4\n",
      "3\n"
     ]
    }
   ],
   "source": [
    "# 3.숫자 카드 게임 - min()\n",
    "\n",
    "n,m=map(int, input().split())\n",
    "\n",
    "# data = []\n",
    "result = []\n",
    "for i in range(n):\n",
    "    data=list(map(int, input().split()))\n",
    "    \n",
    "    min_value = min(data)\n",
    "#     print(min_value)\n",
    "    result.append(min_value)\n",
    "print(max(result))"
   ]
  },
  {
   "cell_type": "code",
   "execution_count": null,
   "id": "6f7e3bfa",
   "metadata": {},
   "outputs": [],
   "source": [
    "# 3.숫자 카드 게임 - min() answer\n",
    "\n",
    "n,m=map(int, input().split())\n",
    "\n",
    "result = 0\n",
    "for i in range(n):\n",
    "    data=list(map(int, input().split()))\n",
    "    \n",
    "    min_value = min(data)\n",
    "#     print(min_value)\n",
    "    result=max(result, min_value)\n",
    "print(result)"
   ]
  },
  {
   "cell_type": "code",
   "execution_count": 17,
   "id": "f45ceed9",
   "metadata": {},
   "outputs": [
    {
     "name": "stdout",
     "output_type": "stream",
     "text": [
      "3 3\n",
      "3 1 2\n",
      "4 1 4\n",
      "2 2 2\n",
      "2\n"
     ]
    }
   ],
   "source": [
    "# 3.숫자 카드 게임 - 이중 for문 answer\n",
    "\n",
    "n,m=map(int, input().split())\n",
    "\n",
    "result=0\n",
    "for i in range(n):\n",
    "    data=list(map(int, input().split()))\n",
    "    \n",
    "    min_value=10001\n",
    "    \n",
    "    for i in data:\n",
    "        min_value=min(min_value, i)\n",
    "        \n",
    "    result=max(result,min_value)\n",
    "\n",
    "print(result)"
   ]
  },
  {
   "cell_type": "code",
   "execution_count": 21,
   "id": "644725ac",
   "metadata": {},
   "outputs": [
    {
     "name": "stdout",
     "output_type": "stream",
     "text": [
      "27 3\n",
      "3\n"
     ]
    }
   ],
   "source": [
    "# 4. 1이 될때까지\n",
    "\n",
    "n, k = map(int, input().split())\n",
    "\n",
    "cnt = 0\n",
    "while (n>1):\n",
    "    if n%k == 0: \n",
    "        n = int(n//k)\n",
    "        cnt+=1\n",
    "    else:\n",
    "        n -= 1\n",
    "        cnt+=1\n",
    "        \n",
    "print(cnt)"
   ]
  },
  {
   "cell_type": "code",
   "execution_count": 22,
   "id": "42255fbf",
   "metadata": {},
   "outputs": [
    {
     "name": "stdout",
     "output_type": "stream",
     "text": [
      "25 5\n",
      "2\n"
     ]
    }
   ],
   "source": [
    "# 4. 1이 될때까지 - answer 1\n",
    "\n",
    "n, k = map(int, input().split())\n",
    "\n",
    "cnt = 0\n",
    "while n>=k:\n",
    "    # N이 k로 나누어 떨어지지 않는다면, N에서 1씩 빼기\n",
    "    while n%k != 0: \n",
    "        n -= 1\n",
    "        cnt+=1\n",
    "    # k로 나누기\n",
    "    n//=k\n",
    "    cnt+=1\n",
    "\n",
    "# 마지막으로 남은수에 대하여 1씩 빼기\n",
    "while n>1:\n",
    "    n-=1\n",
    "    cnt+=1\n",
    "    \n",
    "print(cnt)"
   ]
  },
  {
   "cell_type": "code",
   "execution_count": null,
   "id": "4ca77504",
   "metadata": {},
   "outputs": [],
   "source": [
    "# 4. 1이 될때까지 - answer 2\n",
    "\n",
    "n, k = map(int, input().split())\n",
    "\n",
    "cnt = 0\n",
    "while True:\n",
    "    # N==k로 나누어 떨어지는 수가 될때까지 1씩 빼기\n",
    "    target = (n//k)*k # 왜 이렇게 하는지 모르겠다..\n",
    "    cnt += (n-target)\n",
    "    n = target\n",
    "    # N이 K보다 작을때(더이상 나눌수없을때) 반복문 탈출\n",
    "    if n<k:\n",
    "        break\n",
    "        \n",
    "    # K로 나누기\n",
    "    cnt+=1\n",
    "    n//=k\n",
    "    \n",
    "# 마지막으로 남은수에 대하여 1씩 빼기\n",
    "cnt+=n-1\n",
    "\n",
    "print(cnt)"
   ]
  }
 ],
 "metadata": {
  "kernelspec": {
   "display_name": "Python 3 (ipykernel)",
   "language": "python",
   "name": "python3"
  },
  "language_info": {
   "codemirror_mode": {
    "name": "ipython",
    "version": 3
   },
   "file_extension": ".py",
   "mimetype": "text/x-python",
   "name": "python",
   "nbconvert_exporter": "python",
   "pygments_lexer": "ipython3",
   "version": "3.9.12"
  }
 },
 "nbformat": 4,
 "nbformat_minor": 5
}
