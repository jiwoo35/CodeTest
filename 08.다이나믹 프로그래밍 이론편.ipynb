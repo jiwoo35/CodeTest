{
 "cells": [
  {
   "cell_type": "code",
   "execution_count": 1,
   "id": "cdf5938c",
   "metadata": {},
   "outputs": [
    {
     "name": "stdout",
     "output_type": "stream",
     "text": [
      "3\n"
     ]
    }
   ],
   "source": [
    "# 8-1. 피보나치 수열 - 재귀함수\n",
    "\n",
    "def fibo(x):\n",
    "    if x==1 or x==2: # a1=1, a2=1\n",
    "        return 1\n",
    "    return fibo(x-1)+fibo(x-2)\n",
    "\n",
    "print(fibo(4))"
   ]
  },
  {
   "cell_type": "code",
   "execution_count": 3,
   "id": "b22fa717",
   "metadata": {},
   "outputs": [
    {
     "name": "stdout",
     "output_type": "stream",
     "text": [
      "218922995834555169026\n"
     ]
    }
   ],
   "source": [
    "# 8-2. 피보나치 수열 - Memoization\n",
    "\n",
    "d = [0]*100\n",
    "\n",
    "# 피보나치 함수 \n",
    "def fibo(x):\n",
    "    if x == 1 or x == 2:\n",
    "        return 1\n",
    "    \n",
    "    # 이미 계산한적 있는 경우\n",
    "    if d[x]!=0:\n",
    "        return d[x]\n",
    "    \n",
    "    # 계산한적 없는 경우\n",
    "    d[x] = fibo(x-1) + fibo(x-2)\n",
    "    return d[x]\n",
    "\n",
    "print(fibo(99))"
   ]
  },
  {
   "cell_type": "code",
   "execution_count": 5,
   "id": "c54cc3a8",
   "metadata": {},
   "outputs": [
    {
     "name": "stdout",
     "output_type": "stream",
     "text": [
      "f(6) f(5) f(4) f(3) f(2) f(1) f(2) f(3) f(4) 8\n"
     ]
    }
   ],
   "source": [
    "# 8-2. 피보나치 수열 - Memoization (Top-down)\n",
    "\n",
    "d = [0]*100\n",
    "\n",
    "# 피보나치 함수 \n",
    "def fibo(x):\n",
    "    # 호출되는 함수 확인\n",
    "    print('f('+str(x)+')', end=' ')\n",
    "    \n",
    "    if x == 1 or x == 2:\n",
    "        return 1\n",
    "    \n",
    "    # 이미 계산한적 있는 경우\n",
    "    if d[x]!=0:\n",
    "        return d[x]\n",
    "    \n",
    "    # 계산한적 없는 경우\n",
    "    d[x] = fibo(x-1) + fibo(x-2)\n",
    "    return d[x]\n",
    "\n",
    "# print(fibo(99))\n",
    "print(fibo(6))"
   ]
  },
  {
   "cell_type": "code",
   "execution_count": 6,
   "id": "eb6d9940",
   "metadata": {},
   "outputs": [
    {
     "name": "stdout",
     "output_type": "stream",
     "text": [
      "167242286979696845954\n"
     ]
    }
   ],
   "source": [
    "# 8-3. 피보나치 수열 - 반복문 (Bottom-up)\n",
    "\n",
    "d = [0] * 100\n",
    "\n",
    "# 첫번째, 두번째 수는 1로 지정\n",
    "d[0]=1\n",
    "d[1]=2\n",
    "n = 99\n",
    "\n",
    "for i in range(3, n+1):\n",
    "    d[i] = d[i-1]+d[i-2]\n",
    "    \n",
    "print(d[n])"
   ]
  },
  {
   "cell_type": "code",
   "execution_count": 14,
   "id": "14af6f0d",
   "metadata": {},
   "outputs": [
    {
     "name": "stdout",
     "output_type": "stream",
     "text": [
      "26\n",
      "3\n"
     ]
    }
   ],
   "source": [
    "## 2. 1로 만들기\n",
    "\n",
    "x = int(input())\n",
    "\n",
    "d = [0]*30001\n",
    "\n",
    "for i in range(2, x+1):\n",
    "    # 현재 수에서 1을 빼는 경우\n",
    "    d[i] = d[i-1] + 1    \n",
    "    \n",
    "    # 5로 나누는 경우\n",
    "    if i % 5 == 0:\n",
    "        d[i] = min(d[i], d[i//5]+1)\n",
    "    \n",
    "    # 3으로 나누는 경우\n",
    "    if i % 3 == 0:\n",
    "        d[i] = min(d[i], d[i//3]+1)\n",
    "        \n",
    "    # 2로 나누는 경우\n",
    "    if i % 2 == 0:\n",
    "        d[i] = min(d[i], d[i//2]+1)\n",
    "            \n",
    "print(d[x])"
   ]
  },
  {
   "cell_type": "code",
   "execution_count": 15,
   "id": "3e00b355",
   "metadata": {},
   "outputs": [
    {
     "name": "stdout",
     "output_type": "stream",
     "text": [
      "4\n",
      "1 3 1 5\n",
      "8\n"
     ]
    }
   ],
   "source": [
    "## 3. 개미 전사\n",
    "\n",
    "n = int(input()) # 식량 창고의 개수\n",
    "array = list(map(int, input().split())) # 식량 창고의 식량 개수\n",
    "\n",
    "d = [0]*100\n",
    "\n",
    "d[0] = array[0]\n",
    "d[1] = max(array[1], array[0])\n",
    "\n",
    "# d에 얻을 수 있는 식량의 최대값을 저장한다.\n",
    "for i in range(2,n):\n",
    "    d[i] = max(d[i-1], d[i-2]+array[i])\n",
    "    \n",
    "print(d[n-1])"
   ]
  },
  {
   "cell_type": "code",
   "execution_count": null,
   "id": "98899c19",
   "metadata": {},
   "outputs": [],
   "source": []
  }
 ],
 "metadata": {
  "kernelspec": {
   "display_name": "Python 3 (ipykernel)",
   "language": "python",
   "name": "python3"
  },
  "language_info": {
   "codemirror_mode": {
    "name": "ipython",
    "version": 3
   },
   "file_extension": ".py",
   "mimetype": "text/x-python",
   "name": "python",
   "nbconvert_exporter": "python",
   "pygments_lexer": "ipython3",
   "version": "3.9.7"
  }
 },
 "nbformat": 4,
 "nbformat_minor": 5
}
